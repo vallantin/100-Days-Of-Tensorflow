{
  "nbformat": 4,
  "nbformat_minor": 0,
  "metadata": {
    "colab": {
      "name": "day_019_summarization.ipynb",
      "provenance": [],
      "collapsed_sections": [],
      "toc_visible": true
    },
    "kernelspec": {
      "name": "python3",
      "display_name": "Python 3"
    },
    "accelerator": "GPU"
  },
  "cells": [
    {
      "cell_type": "markdown",
      "metadata": {
        "id": "KPaKefElDJjw",
        "colab_type": "text"
      },
      "source": [
        "# Text sum using gensim"
      ]
    },
    {
      "cell_type": "code",
      "metadata": {
        "id": "BEBGClIVSgtr",
        "colab_type": "code",
        "colab": {
          "base_uri": "https://localhost:8080/",
          "height": 1000
        },
        "outputId": "ac2e8f6b-a660-4473-a486-e07ffc4ce7b5"
      },
      "source": [
        "# genral imports\n",
        "import gensim\n",
        "from nltk.tokenize import sent_tokenize\n",
        "import nltk\n",
        "nltk.download('punkt')\n",
        "from google.colab import files\n",
        "\n",
        "# atalaia import\n",
        "# clone package repository\n",
        "!git clone https://github.com/vallantin/atalaia.git\n",
        "\n",
        "# navigate to atalaia directory\n",
        "%cd atalaia\n",
        "\n",
        "# install packages requirements\n",
        "!pip install -r requirements.txt\n",
        "\n",
        "# install package\n",
        "!python setup.py install\n",
        "\n",
        "# import it\n",
        "from atalaia.atalaia import Atalaia\n",
        "from atalaia.explore import Explore\n",
        "from atalaia.files import get_corpus, save_file"
      ],
      "execution_count": 1,
      "outputs": [
        {
          "output_type": "stream",
          "text": [
            "[nltk_data] Downloading package punkt to /root/nltk_data...\n",
            "[nltk_data]   Unzipping tokenizers/punkt.zip.\n",
            "Cloning into 'atalaia'...\n",
            "remote: Enumerating objects: 116, done.\u001b[K\n",
            "remote: Counting objects: 100% (116/116), done.\u001b[K\n",
            "remote: Compressing objects: 100% (74/74), done.\u001b[K\n",
            "remote: Total 116 (delta 72), reused 82 (delta 38), pack-reused 0\u001b[K\n",
            "Receiving objects: 100% (116/116), 44.49 KiB | 8.90 MiB/s, done.\n",
            "Resolving deltas: 100% (72/72), done.\n",
            "/content/atalaia\n",
            "Requirement already satisfied: nltk in /usr/local/lib/python3.6/dist-packages (from -r requirements.txt (line 1)) (3.2.5)\n",
            "Requirement already satisfied: tqdm in /usr/local/lib/python3.6/dist-packages (from -r requirements.txt (line 2)) (4.41.1)\n",
            "Collecting emoji\n",
            "\u001b[?25l  Downloading https://files.pythonhosted.org/packages/40/8d/521be7f0091fe0f2ae690cc044faf43e3445e0ff33c574eae752dd7e39fa/emoji-0.5.4.tar.gz (43kB)\n",
            "\u001b[K     |████████████████████████████████| 51kB 3.5MB/s \n",
            "\u001b[?25hRequirement already satisfied: numpy in /usr/local/lib/python3.6/dist-packages (from -r requirements.txt (line 4)) (1.18.5)\n",
            "Requirement already satisfied: pandas in /usr/local/lib/python3.6/dist-packages (from -r requirements.txt (line 5)) (1.0.5)\n",
            "Requirement already satisfied: matplotlib in /usr/local/lib/python3.6/dist-packages (from -r requirements.txt (line 6)) (3.2.2)\n",
            "Requirement already satisfied: scikit-learn in /usr/local/lib/python3.6/dist-packages (from -r requirements.txt (line 7)) (0.22.2.post1)\n",
            "Requirement already satisfied: gensim in /usr/local/lib/python3.6/dist-packages (from -r requirements.txt (line 8)) (3.6.0)\n",
            "Requirement already satisfied: six in /usr/local/lib/python3.6/dist-packages (from nltk->-r requirements.txt (line 1)) (1.12.0)\n",
            "Requirement already satisfied: pytz>=2017.2 in /usr/local/lib/python3.6/dist-packages (from pandas->-r requirements.txt (line 5)) (2018.9)\n",
            "Requirement already satisfied: python-dateutil>=2.6.1 in /usr/local/lib/python3.6/dist-packages (from pandas->-r requirements.txt (line 5)) (2.8.1)\n",
            "Requirement already satisfied: kiwisolver>=1.0.1 in /usr/local/lib/python3.6/dist-packages (from matplotlib->-r requirements.txt (line 6)) (1.2.0)\n",
            "Requirement already satisfied: cycler>=0.10 in /usr/local/lib/python3.6/dist-packages (from matplotlib->-r requirements.txt (line 6)) (0.10.0)\n",
            "Requirement already satisfied: pyparsing!=2.0.4,!=2.1.2,!=2.1.6,>=2.0.1 in /usr/local/lib/python3.6/dist-packages (from matplotlib->-r requirements.txt (line 6)) (2.4.7)\n",
            "Requirement already satisfied: joblib>=0.11 in /usr/local/lib/python3.6/dist-packages (from scikit-learn->-r requirements.txt (line 7)) (0.16.0)\n",
            "Requirement already satisfied: scipy>=0.17.0 in /usr/local/lib/python3.6/dist-packages (from scikit-learn->-r requirements.txt (line 7)) (1.4.1)\n",
            "Requirement already satisfied: smart-open>=1.2.1 in /usr/local/lib/python3.6/dist-packages (from gensim->-r requirements.txt (line 8)) (2.1.0)\n",
            "Requirement already satisfied: boto in /usr/local/lib/python3.6/dist-packages (from smart-open>=1.2.1->gensim->-r requirements.txt (line 8)) (2.49.0)\n",
            "Requirement already satisfied: boto3 in /usr/local/lib/python3.6/dist-packages (from smart-open>=1.2.1->gensim->-r requirements.txt (line 8)) (1.14.20)\n",
            "Requirement already satisfied: requests in /usr/local/lib/python3.6/dist-packages (from smart-open>=1.2.1->gensim->-r requirements.txt (line 8)) (2.23.0)\n",
            "Requirement already satisfied: s3transfer<0.4.0,>=0.3.0 in /usr/local/lib/python3.6/dist-packages (from boto3->smart-open>=1.2.1->gensim->-r requirements.txt (line 8)) (0.3.3)\n",
            "Requirement already satisfied: botocore<1.18.0,>=1.17.20 in /usr/local/lib/python3.6/dist-packages (from boto3->smart-open>=1.2.1->gensim->-r requirements.txt (line 8)) (1.17.20)\n",
            "Requirement already satisfied: jmespath<1.0.0,>=0.7.1 in /usr/local/lib/python3.6/dist-packages (from boto3->smart-open>=1.2.1->gensim->-r requirements.txt (line 8)) (0.10.0)\n",
            "Requirement already satisfied: idna<3,>=2.5 in /usr/local/lib/python3.6/dist-packages (from requests->smart-open>=1.2.1->gensim->-r requirements.txt (line 8)) (2.10)\n",
            "Requirement already satisfied: certifi>=2017.4.17 in /usr/local/lib/python3.6/dist-packages (from requests->smart-open>=1.2.1->gensim->-r requirements.txt (line 8)) (2020.6.20)\n",
            "Requirement already satisfied: urllib3!=1.25.0,!=1.25.1,<1.26,>=1.21.1 in /usr/local/lib/python3.6/dist-packages (from requests->smart-open>=1.2.1->gensim->-r requirements.txt (line 8)) (1.24.3)\n",
            "Requirement already satisfied: chardet<4,>=3.0.2 in /usr/local/lib/python3.6/dist-packages (from requests->smart-open>=1.2.1->gensim->-r requirements.txt (line 8)) (3.0.4)\n",
            "Requirement already satisfied: docutils<0.16,>=0.10 in /usr/local/lib/python3.6/dist-packages (from botocore<1.18.0,>=1.17.20->boto3->smart-open>=1.2.1->gensim->-r requirements.txt (line 8)) (0.15.2)\n",
            "Building wheels for collected packages: emoji\n",
            "  Building wheel for emoji (setup.py) ... \u001b[?25l\u001b[?25hdone\n",
            "  Created wheel for emoji: filename=emoji-0.5.4-cp36-none-any.whl size=42176 sha256=843eaf35ea9211f72ab9279afc2b8b28bcf3e0ffe76e35b3ea95290ab39eb5e0\n",
            "  Stored in directory: /root/.cache/pip/wheels/2a/a9/0a/4f8e8cce8074232aba240caca3fade315bb49fac68808d1a9c\n",
            "Successfully built emoji\n",
            "Installing collected packages: emoji\n",
            "Successfully installed emoji-0.5.4\n",
            "running install\n",
            "running bdist_egg\n",
            "running egg_info\n",
            "creating Atalaia.egg-info\n",
            "writing Atalaia.egg-info/PKG-INFO\n",
            "writing dependency_links to Atalaia.egg-info/dependency_links.txt\n",
            "writing top-level names to Atalaia.egg-info/top_level.txt\n",
            "writing manifest file 'Atalaia.egg-info/SOURCES.txt'\n",
            "reading manifest template 'MANIFEST.in'\n",
            "writing manifest file 'Atalaia.egg-info/SOURCES.txt'\n",
            "installing library code to build/bdist.linux-x86_64/egg\n",
            "running install_lib\n",
            "running build_py\n",
            "creating build\n",
            "creating build/lib\n",
            "creating build/lib/atalaia\n",
            "copying atalaia/vectors.py -> build/lib/atalaia\n",
            "copying atalaia/files.py -> build/lib/atalaia\n",
            "copying atalaia/__init__.py -> build/lib/atalaia\n",
            "copying atalaia/explore.py -> build/lib/atalaia\n",
            "copying atalaia/atalaia.py -> build/lib/atalaia\n",
            "copying atalaia/strings.py -> build/lib/atalaia\n",
            "creating build/lib/atalaia/assets\n",
            "copying atalaia/assets/__init__.py -> build/lib/atalaia/assets\n",
            "copying atalaia/assets/stopwords.py -> build/lib/atalaia/assets\n",
            "copying atalaia/assets/contractions.py -> build/lib/atalaia/assets\n",
            "creating build/bdist.linux-x86_64\n",
            "creating build/bdist.linux-x86_64/egg\n",
            "creating build/bdist.linux-x86_64/egg/atalaia\n",
            "copying build/lib/atalaia/vectors.py -> build/bdist.linux-x86_64/egg/atalaia\n",
            "copying build/lib/atalaia/files.py -> build/bdist.linux-x86_64/egg/atalaia\n",
            "copying build/lib/atalaia/__init__.py -> build/bdist.linux-x86_64/egg/atalaia\n",
            "copying build/lib/atalaia/explore.py -> build/bdist.linux-x86_64/egg/atalaia\n",
            "copying build/lib/atalaia/atalaia.py -> build/bdist.linux-x86_64/egg/atalaia\n",
            "creating build/bdist.linux-x86_64/egg/atalaia/assets\n",
            "copying build/lib/atalaia/assets/__init__.py -> build/bdist.linux-x86_64/egg/atalaia/assets\n",
            "copying build/lib/atalaia/assets/stopwords.py -> build/bdist.linux-x86_64/egg/atalaia/assets\n",
            "copying build/lib/atalaia/assets/contractions.py -> build/bdist.linux-x86_64/egg/atalaia/assets\n",
            "copying build/lib/atalaia/strings.py -> build/bdist.linux-x86_64/egg/atalaia\n",
            "byte-compiling build/bdist.linux-x86_64/egg/atalaia/vectors.py to vectors.cpython-36.pyc\n",
            "byte-compiling build/bdist.linux-x86_64/egg/atalaia/files.py to files.cpython-36.pyc\n",
            "byte-compiling build/bdist.linux-x86_64/egg/atalaia/__init__.py to __init__.cpython-36.pyc\n",
            "byte-compiling build/bdist.linux-x86_64/egg/atalaia/explore.py to explore.cpython-36.pyc\n",
            "byte-compiling build/bdist.linux-x86_64/egg/atalaia/atalaia.py to atalaia.cpython-36.pyc\n",
            "byte-compiling build/bdist.linux-x86_64/egg/atalaia/assets/__init__.py to __init__.cpython-36.pyc\n",
            "byte-compiling build/bdist.linux-x86_64/egg/atalaia/assets/stopwords.py to stopwords.cpython-36.pyc\n",
            "byte-compiling build/bdist.linux-x86_64/egg/atalaia/assets/contractions.py to contractions.cpython-36.pyc\n",
            "byte-compiling build/bdist.linux-x86_64/egg/atalaia/strings.py to strings.cpython-36.pyc\n",
            "creating build/bdist.linux-x86_64/egg/EGG-INFO\n",
            "copying Atalaia.egg-info/PKG-INFO -> build/bdist.linux-x86_64/egg/EGG-INFO\n",
            "copying Atalaia.egg-info/SOURCES.txt -> build/bdist.linux-x86_64/egg/EGG-INFO\n",
            "copying Atalaia.egg-info/dependency_links.txt -> build/bdist.linux-x86_64/egg/EGG-INFO\n",
            "copying Atalaia.egg-info/top_level.txt -> build/bdist.linux-x86_64/egg/EGG-INFO\n",
            "zip_safe flag not set; analyzing archive contents...\n",
            "creating dist\n",
            "creating 'dist/Atalaia-0.4.0-py3.6.egg' and adding 'build/bdist.linux-x86_64/egg' to it\n",
            "removing 'build/bdist.linux-x86_64/egg' (and everything under it)\n",
            "Processing Atalaia-0.4.0-py3.6.egg\n",
            "Copying Atalaia-0.4.0-py3.6.egg to /usr/local/lib/python3.6/dist-packages\n",
            "Adding Atalaia 0.4.0 to easy-install.pth file\n",
            "\n",
            "Installed /usr/local/lib/python3.6/dist-packages/Atalaia-0.4.0-py3.6.egg\n",
            "Processing dependencies for Atalaia==0.4.0\n",
            "Finished processing dependencies for Atalaia==0.4.0\n"
          ],
          "name": "stdout"
        }
      ]
    },
    {
      "cell_type": "markdown",
      "metadata": {
        "id": "KqLSzGKtXXvA",
        "colab_type": "text"
      },
      "source": [
        "Load file."
      ]
    },
    {
      "cell_type": "code",
      "metadata": {
        "id": "7nlJ8Kp8XWJ1",
        "colab_type": "code",
        "colab": {
          "resources": {
            "http://localhost:8080/nbextensions/google.colab/files.js": {
              "data": "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",
              "ok": true,
              "headers": [
                [
                  "content-type",
                  "application/javascript"
                ]
              ],
              "status": 200,
              "status_text": ""
            }
          },
          "base_uri": "https://localhost:8080/",
          "height": 109
        },
        "outputId": "ec19117f-c45c-4db2-8922-cfc11ea874f5"
      },
      "source": [
        "# define language\n",
        "lg = 'en'\n",
        "\n",
        "# start aruana\n",
        "#aruana  = Aruana(lg)\n",
        "atalaia = Atalaia(lg)\n",
        "\n",
        "# load corpus\n",
        "corpus = files.upload()\n",
        "path=\"restaurants.txt\"\n",
        "corpus = get_corpus(path, ispandas=False)\n",
        "\n",
        "# replace newlines\n",
        "corpus = [atalaia.replace_newline(sentence) for sentence in corpus] \n",
        "\n",
        "# keep unique\n",
        "corpus"
      ],
      "execution_count": 2,
      "outputs": [
        {
          "output_type": "display_data",
          "data": {
            "text/html": [
              "\n",
              "     <input type=\"file\" id=\"files-302ccfb3-c25c-41c4-8590-a3e98ecfe381\" name=\"files[]\" multiple disabled\n",
              "        style=\"border:none\" />\n",
              "     <output id=\"result-302ccfb3-c25c-41c4-8590-a3e98ecfe381\">\n",
              "      Upload widget is only available when the cell has been executed in the\n",
              "      current browser session. Please rerun this cell to enable.\n",
              "      </output>\n",
              "      <script src=\"/nbextensions/google.colab/files.js\"></script> "
            ],
            "text/plain": [
              "<IPython.core.display.HTML object>"
            ]
          },
          "metadata": {
            "tags": []
          }
        },
        {
          "output_type": "stream",
          "text": [
            "Saving restaurants.txt to restaurants.txt\n"
          ],
          "name": "stdout"
        },
        {
          "output_type": "execute_result",
          "data": {
            "text/plain": [
              "['Coronavirus. . Our Ghost-Kitchen Future. . By Anna Wiener. . June 28, 2020. . A parking lot with trailer restaurants. . A business model that seemed marginal before the coronavirus pandemic now looks like the future of restaurants.Illustration James Clapham. . Last fall, walking down Mission Street, in San Francisco, I noticed a new addition to an otherwise unremarkable parking lot at the base of Bernal Heights Hill: a large, white trailer, about the size of three parking spaces, plastered with a banner that read “food pick up here.” On one side was a list of restaurant brands with names and logos that seemed algorithmically generated: WokTalk, Burger Bytes, Fork and Ladle, Umami, American Eclectic Burger, Wings & Things. The trailer was hooked up to a generator, which was positioned behind two portable toilets; it occupied parking spots once reserved for Maven, an hourly-car-rental startup, funded by General Motors and marketed to gig-economy workers. (G.M. shut down Maven in April.) Through a small window cut into the side, I could see two men moving around what appeared to be a kitchen. The generator hummed; the air carried the comforting smell of fryer oil; the toilets were padlocked. One of the men came to the window and apologized: I couldn’t order food directly, he told me—I would have to order through the apps. . The trailer, along with a few others in San Francisco, is operated by Reef Technology, a startup based in Miami. According to marketing materials, Reef creates “thriving hubs for the on-demand economy” by “reimagining the common parking lot.” By bringing in utilities like electricity, gas, and water, and setting up “proprietary containers,” the company hopes to turn parking lots into reconfigurable community hubs. Lots might be “formatted” to include mobile kitchens, beer gardens, retail pop-ups, vertical farms, auto-body shops, medical services, rental stations for electric vehicles, and so on. “We have these pods, which arguably are not pretty, but they’re functional. They can support any kind of application,” Ari Ojalvo, the C.E.O. of Reef, told me. “If you want to put a grocery store in there, put a grocery store in there. Laundry, put laundry.” Ojalvo compares his company to Apple: just as the App Store allows developers to create and sell iOS-based tools and services, so Reef provides infrastructure for parking-based businesses. “Apple uses connectivity as a platform; we use proximity as a platform. We allow third-party applications to stand on this proximity platform and get closer to consumers,” he said. . Ojalvo and one of his three co-founders, Umut Tekin, met as undergraduates at Northwestern University, in the late nineteen-nineties. After graduation, both worked as management consultants: Tekin in technology, and Ojalvo focused on supply-chain optimization. They started their company in 2013, in Miami, under the name ParkJockey, and initially offered an app for reserving parking spaces in advance, which launched the following year in London and Chicago. The app included a back-end service for parking operators, and the company continued to build out its garage-management software. In 2018, ParkJockey raised nearly a billion dollars from SoftBank Vision Fund, and acquired the two largest parking operators in North America, Impark and Citizens Parking. In the trade publication Parking Today, publisher John Van Horn speculated about the repercussions of ParkJockey’s ascent. “I have received a number of calls from operators across the fruited plain asking about ParkJockey,” Van Horn wrote. “Who are they? What does their software do? Yikes, are we prey?” Shortly after the acquisitions, the company changed its name to Reef, to evoke a thriving ecosystem. It now manages 1.3 million parking spaces in forty-five hundred locations—city centers and residential neighborhoods, as well as airports, hospitals, stadiums, and hotels—in Canada and the United States. (Tekin left the company in 2019.). . In the past, Reef has pitched itself as anticipating a world in which autonomous cars are the norm, and fleets of self-driving ride-share vehicles make parking mostly obsolete. In such a world, parking lots would have to be repurposed. Over the past two years, though, the company’s narrative has changed somewhat: Reef’s executives now emphasize their work in “creating the next phase of a neighborhood” by forming local logistics and mobility hubs. This year, Reef launched a partnership with Bond, a logistics startup that operates “nano-warehouses”: fulfillment centers, often in vacant storefronts, that can be used for last-mile delivery. City-dwellers may someday pick up their Amazon packages and clamshell-carton dinners in a parking lot or empty retail space, like college students dipping into the campus center before retreating back to the dorms. . For now, though, Reef is focussing on food preparation as a test case—a proof of concept for other sorts of “applications” that might make sense in some later, future time. Food prep is a sensible first experiment for Reef’s modular approach to repurposing parking lots: over the past few years, delivery has been on the upswing, and delivery-only kitchens—referred to as “ghost kitchens” or “dark kitchens”—are having a moment. Reef operates kitchens across eighteen cities in the United States, in seventy-odd parking lots. In the trailer on Mission Street, meals from all six of the advertised restaurants are prepared on site—the culinary equivalent of a multicolor retractable pen. The restaurants are “internal” to Reef: designed and staffed by its employees, with menus developed by a culinary team that includes former executives from Roti Modern Mediterranean, Potbelly, and Jamba Juice. The menus lean toward comfort food, and are a little arbitrary. Wings & Things offers mozzarella sticks, chicken tenders, cronuts (“dusted with cinnamon maple sugar and served with a side of Canadian Maple dipping sauce”), Skittles, Red Bull, and two kinds of Greek-yogurt bowls. . Currently, the food offered by Reef’s internal brands comes from US Foods, a food distributor that works with colleges, hotels, and hospitals, and is a wholesale supplier for independent restaurants and diners. In San Francisco, the menu items are delivered to a central commissary in the Bayview area, and come individually wrapped; precise assembly instructions are provided to line cooks. Every night, Reef’s trailers, which are managed under a subsidiary, Vessel CA, return to the commissary, where the gray-water tanks are drained, the potable-water tanks are refilled, and the refrigerators are restocked. Reef has ambitions to offer fresher, more sophisticated fare, eventually. But, for now, customers may find themselves paying a premium for meals similar to those found at a fast-food restaurant, or in a supermarket freezer. . The ghost kitchen is an increasingly crowded space. In addition to Reef, there are Zuul and Kitchen United in the United States, Deliveroo in London and Paris, and Panda Selected in China. CloudKitchens, the new venture run by Travis Kalanick’s City Storage Systems, buys real estate, brings in kitchen facilities, and leases them to chefs and small-business owners, most of whom do not have other brick-and-mortar spaces. Ojalvo cites his own experience in the restaurant industry (as a partner, he worked on the expansion of Sushi Samba, a Peruvian, Japanese, and Brazilian fusion-restaurant chain with locations in Las Vegas and Amsterdam) to note that opening a brick-and-mortar restaurant is high-risk and expensive, whereas ghost kitchens are lower-risk, offering a more affordable way for entrepreneurs to enter the business. In most cities, opening a brick-and-mortar restaurant requires a gauntlet of permits and inspections; restaurateurs waiting on permits might find themselves paying months of rent for space they aren’t yet allowed to use. Reef’s kitchens are registered as mobile food facilities, which tend to have fewer permitting requirements. Like the trailers themselves, the business details are configurable: Reef offers flexible staffing arrangements and short-term leases. . Like Reef, many of the brands operated by CloudKitchens and the like are “virtual.” The branding and food are real, but the restaurants do not exist elsewhere in the physical world; consumers, presumably, are none the wiser. Uber Eats, which delivers from Reef and CloudKitchens, among others, has facilitated seven thousand virtual restaurants, more than four thousand of which are in North America. Using data from in-app searches, Uber Eats identifies opportunities for certain cuisines in various neighborhoods, then approaches existing brick-and-mortar restaurateurs to pitch them the idea of launching a virtual restaurant. “Virtual restaurants are meant to be a demand-generation tool for our restaurant partners,” Kristen Adamowski, the virtual-restaurants lead at Uber Eats, said. “We partner with a restaurant to spin up virtual restaurants, to fulfill that cuisine gap. We’ll provide the high-level cuisine insight. And then we take it one step further, and provide a list of menu items within that cuisine type that are also in high demand. So we provide that granular menu-level insight.”. . In the Mission, an outpost of Top Round Roast Beef, a small, national, fast-casual chain restaurant, dedicates part of its kitchen to three delivery-only brands that exist solely on Uber Eats: Red Ribbon Fried Chicken, TR Burgers and Wings, and Ice Cream Custard. In New York, the kitchen of Wok Wok, a Thai restaurant in Chinatown, operates multiple spinoff brands, all seemingly search-engine optimized: Thai Ai Ai, Panang Panang! Thai Curry, and Fire Ass Thai. Chuck E. Cheese, a family restaurant chain with on-site arcades and a friendly rat mascot, recently launched its own virtual restaurant brand, Pasqually’s Pizza & Wings, to reach a broader customer base during the pandemic. (The parent company recently declared bankruptcy due to pandemic-related closures.) In May, NRD Capital, the private-equity firm that owns Ruby Tuesday, announced a “host kitchen” initiative, in which existing restaurants will lease kitchen space to third-party brands for delivery; a variation on this is already employed by Wow Bao, a fast-casual chain selling dumplings and steamed buns, which rents kitchen space—and labor—from existing brick-and-mortar restaurants to expand its delivery footprint. . Some restaurant owners operate ten virtual brands from a single kitchen. In February, when the New York City Council held an oversight hearing on the impact of ghost kitchens on local businesses, Matt Newberg, an entrepreneur and independent journalist, testified that he had visited a CloudKitchens commissary in Los Angeles where twenty-seven kitchens, occupying eleven thousand square feet, operated a hundred and fifteen restaurants on delivery platforms. Newberg posted a video online, which depicted line cooks packed into a windowless warehouse, yelling over the sounds of tablets and phones chiming with order alerts. For the people working in ghost kitchens, there is nothing spectral about this environment. As in most restaurants, the apparition is for customers; the ghosts are the workers themselves. . The logic of food-delivery platforms is the logic of the digital marketplace. Just as there might be four different Amazon listings, under four different brand names, for the same USB cable, a sandwich produced in a ghost kitchen might appear on multiple menus with different names. Virtual restaurant brands often have eye-catching and pun-soaked names, and some seem ripped from a short story by Lorrie Moore: Á La Couch, Endless Pastabilities, Mac to the Future, Bad Mutha Clucka. Like many menu items—“Are You Stroganoff for This?,” “Are You Alfredo of the Dark”—the names might be strange, possibly off-putting, from the sidewalk. They are natural to the Internet, where language is informal and conversational, prone to wordplay and punning. Unlike a neighborhood restaurant with a ten-year lease, digital brands are not necessarily angling for timelessness and longevity. There is also the opportunity for informal A/B testing: restaurant operators can change and update restaurant names, logos, menu items, and menu photography at their own discretion. . Like any platform, food-delivery apps have their own content-moderation problems. Earlier this year, Pim Techamuanvivit, the owner of Kin Khao, a stylish, Michelin-starred Thai restaurant in downtown San Francisco, learned that her restaurant had been listed on Grubhub’s delivery platforms without her consent, and deliveries were being made from an imposter kitchen. That kitchen—Happy Khao Thai—was a Reef brand. Grubhub claimed that its software had accidentally merged the two restaurants, combining Kin Khao’s branding and contact information with Happy Khao Thai’s menu, but the incident pointed to a power imbalance between restaurateurs and delivery platforms, many of which list restaurants on their apps without permission or consultation. A recent Buzzfeed article detailed Grubhub’s practice of listing forwarding numbers for restaurants, then charging those restaurants referral fees, even when the calls did not result in an order. . For restaurants that have already established themselves in the physical world, ghost kitchens can be a way to adapt to shifting trends. Frjtz, a San Francisco restaurant beloved for its Belgian-style fries, closed its brick-and-mortar location in the Mission in 2019, after nearly twenty years in business, and now operates—delivery only—via CloudKitchens. Delivery-only kitchens can also work as a sort of triage effort for restaurants that are doing well. Recently, the owners of DOSA, a fifteen-year-old upscale Indian restaurant with locations in Oakland and San Francisco, told Eater they planned to move to a virtual model: a central commissary kitchen will supply food to a network of twenty delivery-only kitchens, where it can be reheated and delivered. (DOSA will continue to operate the two brick-and-mortar locations as well.) In recent years, Souvla, a rabidly popular chain of fast-casual Greek restaurants in San Francisco, saw thirty per cent of its business come from delivery. The restaurant group recently converted its commissary kitchen in SoMa into what Charles Bililies, Souvla’s founder and C.E.O., prefers to call a “delivery-only restaurant,” intended to accommodate large orders and catering. . VIDEO FROM THE NEW YORKER. . For the Love of Bread. . Bililies, who has been eying an expansion to New York, said that he preferred having his own space, but saw the potential for shared kitchens to provide an on-ramp to brick-and-mortar locations in new markets. (In 2017, he tested out a two-day “delivery-only pop-up” in Manhattan, ferrying Greek fries, chicken salads, and a lamb sandwich drizzled with harissa-spiked yogurt across the borough.) A ghost kitchen, he speculated, could give new restaurants a head start on hiring and training staff and finding local vendors. “By the time the restaurant opens, we would have a fully trained team that could step over to a new location,” he said. “And then we could also repurpose that sort of training kitchen, if you will, and turn it into a small commissary, or overflow for catering.”. . In major American cities that continue to shelter in place or that are only inching toward reopening, every restaurant kitchen is now, in one way or another, a ghost kitchen. Across the country, restaurateurs have gotten creative. Some have converted overnight into greenmarkets or grocery stores. Some offer bottled mixed cocktails, or the contents of their pantries and wine cellars, or they host cocktail courses and wine-tasting classes on Zoom. Some are pivoting permanently, redesigning their interiors and menus to better fit into a future of fast-casual, carry-away fare. Some have partnered with local nonprofits to feed first responders. Reem’s California, a restaurant with locations in Oakland and San Francisco, has converted one location into a commissary kitchen to serve vulnerable community members during the pandemic. Flexibility is the order of the day. Even so, the relatively frictionless ghost-kitchen setup is not always an asset: in early April, in Portland, David Chang’s popular fried-chicken chain, Fuku, began delivery service out of Reef kitchens. Local restaurateurs and food writers questioned the ethics of a famous chef launching a delivery-only competitor during a pandemic, when existing independent restaurants were already struggling to survive. (After a flood of criticism, Fuku temporarily ceased operations in Portland.). . For many, the delivery-app model was already unsustainable, particularly when the costs of participating eclipse the benefits, due to extortionate service charges paid by restaurants. In San Francisco, an emergency order capped delivery-app restaurant fees at fifteen per cent; Washington, D.C., New York, Seattle, and New Jersey followed suit. Even with these measures, some restaurants have ceased delivery in favor of temporary closure, finding it more viable financially. Others have been experimenting with off-platform methods, such as employing in-house, neighborhood delivery runners, or fulfilling pickup orders through point-of-sale apps like Square, Toast, and Tock. Douglas, an upscale corner store and café in San Francisco’s Noe Valley neighborhood, has emerged as a sort of pickup window for a handful of higher-end restaurants, which offer meal kits and prepackaged food—a homegrown variation on Reef’s centralized vision, with the shop as a broker, rather than a venture-funded startup. “I did think for a hot second about using Caviar or Grubhub, but, as I had suspected, it’s highway robbery what they charge, percentage-wise,” one participating restaurateur told me. “People in restaurants work so hard, and margins are so slim. It’s an implicit class thing: blue-collar workers, but the margins are going to the software developers and venture companies.”. . The Souvla chain quickly pivoted to takeout-only, too, but suspended operations after forty-eight hours, before San Francisco’s shelter-in-place order was instated. Bililies was concerned about the health risk to workers, and the demand for delivery was not as high as anticipated. “In early March, I put this plan in place, mirrored off the Department of Defense’s defcon system,” Bililies told me. “We had five stages, 5 being restaurants operating normally, 1 being everything is closed. At the start of March, the thought of defcon 1 seemed super extreme: defcon 1 at the D.O.D. is nuclear war. We went from 4 to 1 in maybe three days.”. . He and his wife, the restaurateur Jen Pelka, repaired to their country home in Sonoma County. When we spoke, Bililies had recently read an article about the history of manufacturing in the United States, which he found helpful in envisioning Souvla’s operations on the other side of the pandemic. “Restaurants are the new manufacturing of the U.S., in every town and city, little factories producing food,” he said. “I do see an opportunity for a restaurant like Souvla, that has an established brand, that has all of these physical assets, to reëmerge as this little collection of mini Greek-food factories that can produce and distribute the same dishes that people have been eating over the years. Souvla is not going anywhere. Souvla is going to reopen. What might change is how it gets to you.”. . Virtual restaurants are a little surreal: the shape-shifting nature of brands and menus; the elimination of the spontaneous, collective, social dimensions of dining out; the separation of user experience from human labor, like a culinary Mechanical Turk. At the same time, most restaurants rely on a sort of performance, and the basic ghost-kitchen model has more or less existed for decades, deliberately—for years, Domino’s has operated kitchens for only takeout and delivery, including one up the street from the Reef trailer in the Mission—as well as inadvertently. (Food trucks, many of which are reliably located in parking lots, are a delivery-free twist on the model.) Years ago, before the omnipresence of delivery apps, my co-workers and I would regularly order lunch from a Japanese restaurant near our office in SoHo, placing orders directly with a cashier over the phone. One afternoon, running errands during lunch, I passed the restaurant and saw that it was smaller, emptier, more fluorescent than I had imagined. There were no diners—just a back table full of tidily arranged plastic delivery bags, receipts stapled to the knotted handles. I thought about this place often while researching ghost kitchens, and wondered if it ever had a bustling dining room—if it could have been just as successful, if not more so, with a third of the space. Why should it matter whether or not the kitchen came with tables and chairs? . Due to the coronavirus pandemic, a version of the long-term future that Reef anticipates, of diminished automobile usage and hyper-locality, has unexpectedly materialized. “We went from a reality where the world was super interconnected, and now all of a sudden your immediate vicinity became your new reality,” Ojalvo told me. “Now all you do is walk a stone’s throw away, get your goods delivered to you. So it’s a very strange warped reality, where we actually see a transformation that I would have expected over five to fifteen years—that’s happening in five to fifteen weeks.” In May, Reef launched a small pilot program in Miami with DHL, providing logistics hubs for four electric cargo bicycles, dispatched in lieu of delivery vans for “last-block delivery.”. . The idea of creating full-service neighborhoods has plenty of precedent, as does the ambition of repurposing space designed for cars. Parking lots have long been attractive sites for urban designers, many of whom see them as wasteful, inefficient land banks. Since the early nineties, certain streets and intersections in Barcelona have been designated “superblocks,” closed to traffic and repurposed for community use: playgrounds, plazas, green spaces, picnic-table seating. In 2011, in the Hayes Valley neighborhood in San Francisco, two parking lots were repurposed for shipping-container retail, restaurants, and outdoor seating; the project was so successful that it was renewed through 2021. In February, Paris’s mayor, Anne Hidalgo, ran for reëlection on the platform of a “Fifteen-Minute City”: a plan for Parisians to access commerce, health-care services, education, and the workplace within a fifteen-minute stroll or bike ride from their front doors. Portland and Melbourne have pursued similar “twenty-minute neighborhood” initiatives, which aim to allow residents to meet a range of needs within a short distance. These all represent a turn away from reliance on privately owned vehicles, and from the “Euclidean” zoning of the twentieth century, in which cities were carved up according to use, fostering sprawl and exacerbating segregation and inequality. Land-use regulations often preclude convenience: even densely populated residential neighborhoods in urban areas can find themselves without pharmacies or grocery stores. The pandemic has intensified these inequalities, particularly for those whose access to basic resources is contingent on public transportation. Stocking up is a car owner’s game. . There is something utopian about Reef’s project, which inspires visions of greener, less congested, more accessible cities, in which delivery fleets zip around on electric bicycles and people congregate for cocktails in rooftop gardens, planted atop defunct parking structures. It is also a little sad. Decentralized, delivery-only restaurants—to say nothing of the WeWork-ification of restaurant kitchens—point to greater problems and complexities, like widening inequality, the high cost of living in coastal cities, the tenuous financial model of restaurants, and a culture in which, whether by preference or necessity, people prioritize convenience even in their leisure activities. None of the food-delivery companies are profitable: the endgame, as evidenced by Uber Eats’s recent bid to acquire Grubhub, is monopoly. People do not get into the restaurant business to leverage extra kitchen space. The opportunities Reef is pursuing are created by a certain degree of instability, or precariousness: underpaid gig-economy workers, prohibitive real-estate prices, desiccated public institutions and services, sclerotic local politics, a weary populace. The business model is contingent on trends—e-commerce, food delivery—that have contributed to the erosion of hyper-local, small-scale urban retail. Picking up packages locally is not the same as shopping locally, particularly not when the packages are from a global conglomerate like Amazon—to say nothing of the fact that local hubs for package pickup already exist across America, provided by the U.S. Postal Service. Consolidating local commerce and services under a private, venture-funded company without any community history or commitments also carries obvious risks. . Ojalvo’s positioning of Reef as a “platform for proximity” elides the fact that proximity is what cities are already good at; it is their whole proposition. Within a five-minute walk from the Reef trailer in the Mission, there are three coffee shops, two bodegas, a Walgreen’s, a preschool, an upscale New American restaurant, a Chinese restaurant, a Vietnamese restaurant, a Thai restaurant, a Salvadoran restaurant, a Peruvian restaurant, a Hawaiian restaurant, a Mexican seafood restaurant, a taqueria, three groceries, a punkish spaghetti restaurant, a Chicago-style brewery and pizzeria, a wood-fired-pizza truck, a Burger King, a hospital, and multiple bars and night clubs. There are four storefronts where one can pick up packages from FedEx, UPS, and DHL; there is a post office. Even the entrepreneurial model of ghost kitchens has a community-based twin: in San Francisco, La Cocina, a nonprofit commissary kitchen in the Mission, has served as an incubator for low-income food entrepreneurs—specifically women, immigrants, and people of color—since 2005. With sufficient political will and financial resources, the future that Reef envisions could also emerge from communities themselves: in recent years, gig workers have begun forming “platform coöperatives,” worker-owned alternatives to venture-funded, startup-owned platforms. During recent protests against racial injustice and police brutality, restaurants across the country opened their doors to demonstrators, offering drinks, snacks, and restrooms; meanwhile, in cities with curfews, delivery apps continued to operate after-hours, placing their couriers at risk. . This is a strange time to be in the business of redesigning the American city. Certain forms of urban infrastructure, long seen as inevitable, are under reconsideration. Across the country, cities have closed major thoroughfares to automobile traffic, expanding public space to accommodate outdoor social distancing, changes that many urbanists hope will be permanent. Berkeley and San Jose’s respective city councils have proposed legislation that would close streets to traffic and convert them into open-air dining plazas, taking a cue from recent measures in Vilnius. A group of San Francisco restaurateurs and architects has called for a speedier and more efficient permitting process, and the city’s permission to repurpose parklets into dining spaces. The coronavirus has encouraged people to reimagine the world they want to live in: what it should prioritize, how it should be built, and for whose benefit it should be designed. . Like most industries, the parking industry has been upended by the pandemic, resulting in massive layoffs, revenue drops, and emptier parking structures. Reef, which is still primarily a parking-operations company, has also pivoted in recent weeks. In response to the coronavirus, the company has been working on converting some parking lots—four in Suffolk County, New York, as of this writing—into drive-through covid-19 testing sites, and dispatching couriers to deliver food to hospital workers in San Francisco and Dallas. It has also launched a new initiative in Miami, Calling All Restaurants, to help existing brick-and-mortar locations set up delivery-only restaurants in Reef kitchens. In May, Zuul and Figure 8, a logistics-consulting agency, launched Zuul Studios, a consultancy for forming ghost kitchens, “to create innovative delivery strategies.” Reef is also considering plans for drive-in movie theatres and open-air retail. . Last week, I took a walk to check in on the Reef rig in the Mission. For a while, after San Francisco’s shelter-in-place order in March, the neighborhood was quiet and eerie: plywood covered the windows of some bars and restaurants, and taped to the doors of many small businesses were apologetic, compassionate notes declaring an indefinite hiatus. Now, as California experiments with reopening certain nonessential businesses, the city is cautiously finding its footing; a new program, Shared Spaces, encourages restaurant owners to apply for outdoor permits to repurpose sidewalks and travel lanes. In the parking lot, everything was intact. Sunlight bounced off the side of the trailer, which had been wrapped in a bright blue skin adorned with Reef’s logo. The line cooks wore masks. The door was propped open to accommodate the breeze, and a folding table, for contactless pickups, stood empty out front. There was nothing much to see. . A previous version of this piece incorrectly described the ownership and distribution territories of US Foods. . A Guide to the Coronavirus. . The coronavirus vaccine is on track to be the fastest ever developed. . What the coronavirus has revealed about American medicine. . Recommendations for maintaining social distancing as the U.S. reopens, from socializing and using public bathrooms to wearing masks. . Why remote work is so hard—and how it can be fixed. . Seattle leaders let scientists take the lead in responding to the coronavirus. New York leaders did not. . The long crusade of Dr. Anthony Fauci, the infectious-disease expert pinned between Donald Trump and the American people. . What to read, watch, cook, and listen to under quarantine. . Anna Wiener is a contributing writer to The New Yorker, covering Silicon Valley, startup culture, and technology. Her first book, “Uncanny Valley,” a memoir of her time in the tech industry, was published in January. . # source: https://www.newyorker.com/news/letter-from-silicon-valley/our-ghost-kitchen-future. ']"
            ]
          },
          "metadata": {
            "tags": []
          },
          "execution_count": 2
        }
      ]
    },
    {
      "cell_type": "markdown",
      "metadata": {
        "id": "00yHygeW87sP",
        "colab_type": "text"
      },
      "source": [
        "Despite being a good way to get smaller sentences from a paragraph, NLTK sentence tokenizer is not always very precise."
      ]
    },
    {
      "cell_type": "code",
      "metadata": {
        "id": "y0-nQFQ68ck7",
        "colab_type": "code",
        "colab": {
          "base_uri": "https://localhost:8080/",
          "height": 102
        },
        "outputId": "d5be1a83-fc0b-498a-baf9-0e034fc1ca4a"
      },
      "source": [
        "# tokenize and get sentences\n",
        "sentences = [sentence for text in corpus for sentence in sent_tokenize(str(text)) if sentence != '.' and sentence !=''] # flatten list\n",
        "sentences[:5]"
      ],
      "execution_count": 3,
      "outputs": [
        {
          "output_type": "execute_result",
          "data": {
            "text/plain": [
              "['Coronavirus.',\n",
              " 'Our Ghost-Kitchen Future.',\n",
              " 'By Anna Wiener.',\n",
              " 'June 28, 2020. .',\n",
              " 'A parking lot with trailer restaurants.']"
            ]
          },
          "metadata": {
            "tags": []
          },
          "execution_count": 3
        }
      ]
    },
    {
      "cell_type": "markdown",
      "metadata": {
        "id": "SOeizKA5-JVf",
        "colab_type": "text"
      },
      "source": [
        "## Explore"
      ]
    },
    {
      "cell_type": "code",
      "metadata": {
        "id": "P9Pz-zGi60iN",
        "colab_type": "code",
        "colab": {
          "base_uri": "https://localhost:8080/",
          "height": 1000
        },
        "outputId": "db58fce3-f569-466f-850d-9513c0009cf7"
      },
      "source": [
        "# Start Explore\n",
        "explore = Explore(lg)\n",
        "\n",
        "# plot histogram\n",
        "sentences_sizes, shortest, longest, average, percentiles = explore.plot_sentences_size_histogram(sentences, bins=10)\n",
        "\n",
        "# plot boxplot\n",
        "explore.plot_sentences_size_boxplot(sentences)\n",
        "\n",
        "# plot most representative words\n",
        "explore.plot_representative_tokens(sentences)\n",
        "\n",
        "print('Shortest sentence has length of: {}.'.format(shortest))\n",
        "print('Longest sentence has length of:  {}.'.format(longest))\n",
        "print('Average sentence has length of:  {}.'.format(int(average)))\n",
        "print('Percentiles: {}.'.format(str(percentiles)))"
      ],
      "execution_count": 4,
      "outputs": [
        {
          "output_type": "display_data",
          "data": {
            "image/png": "[encoded data removed]",
            "text/plain": [
              "<Figure size 432x288 with 1 Axes>"
            ]
          },
          "metadata": {
            "tags": [],
            "needs_background": "light"
          }
        },
        {
          "output_type": "display_data",
          "data": {
            "image/png": "[encoded data removed]",
            "text/plain": [
              "<Figure size 432x288 with 1 Axes>"
            ]
          },
          "metadata": {
            "tags": [],
            "needs_background": "light"
          }
        },
        {
          "output_type": "stream",
          "text": [
            "Shortest sentence has length of: 2.0.\n",
            "Longest sentence has length of:  106.0.\n",
            "Average sentence has length of:  25.\n",
            "Percentiles: (2.0, 15.0, 25.0, 38.0, 106.0).\n"
          ],
          "name": "stdout"
        },
        {
          "output_type": "display_data",
          "data": {
            "image/png": "[encoded data removed]",
            "text/plain": [
              "<Figure size 1440x720 with 1 Axes>"
            ]
          },
          "metadata": {
            "tags": [],
            "needs_background": "light"
          }
        }
      ]
    },
    {
      "cell_type": "markdown",
      "metadata": {
        "id": "q_Ni-nDw-Tm_",
        "colab_type": "text"
      },
      "source": [
        "We have a corpus with an average sentence size of 25 tokens and a few outlier sentences. \n",
        "\n",
        "Let's remove the sentences that are to short and the ones that are too long."
      ]
    },
    {
      "cell_type": "code",
      "metadata": {
        "id": "_kGhRR3h-S1u",
        "colab_type": "code",
        "colab": {
          "base_uri": "https://localhost:8080/",
          "height": 122
        },
        "outputId": "2054dc87-d26c-4c3e-e731-dac494897755"
      },
      "source": [
        "# exclude short sentences\n",
        "# get sentences longer than 80% of the average size\n",
        "# include a maxcap to avoid outliers\n",
        "min_cap   = int(average - (average*0.2))\n",
        "max_cap   = 70\n",
        "sentences = [sentence.strip() for sentence in sentences if len(atalaia.tokenize(sentence)) > min_cap and len(atalaia.tokenize(sentence)) < max_cap]\n",
        "\n",
        "# keep unique\n",
        "sentences = list(set(sentences))\n",
        "\n",
        "# clean the sentences\n",
        "clean_sentences = atalaia.preprocess_list(sentences,\n",
        "                                          tokenize=False, \n",
        "                                          stem=True, \n",
        "                                          remove_stopwords=True, \n",
        "                                          remove_numbers=True, \n",
        "                                          remove_punct=True,\n",
        "                                          strip_accs=True)\n",
        "\n",
        "clean_sentences[:5]"
      ],
      "execution_count": 5,
      "outputs": [
        {
          "output_type": "execute_result",
          "data": {
            "text/plain": [
              "['consolid local commerc servic privat ventur fund compani without communiti histori commit carri obvious risk',\n",
              " 'virtual restaur brand often eye catch pun soak name seem rip short stori lorri moor a la couch endless pastabl mac futur bad mutha clucka',\n",
              " 'due coronavirus pandem version long term futur reef anticip diminish automobil usag hyper local unexpect materi',\n",
              " 'start compani miami name parkjockey initi offer app reserv park space advanc launch follow year london chicago',\n",
              " 'chuck e chees famili restaur chain site arcad friend rat mascot recent launch virtual restaur brand pasqual pizza & wing reach broader custom base pandem']"
            ]
          },
          "metadata": {
            "tags": []
          },
          "execution_count": 5
        }
      ]
    },
    {
      "cell_type": "code",
      "metadata": {
        "id": "osoQTys260kv",
        "colab_type": "code",
        "colab": {
          "base_uri": "https://localhost:8080/",
          "height": 1000
        },
        "outputId": "ded19c0b-34a1-4933-c83c-054998a493fe"
      },
      "source": [
        "# plot histogram\n",
        "sentences_sizes, shortest, longest, average, percentiles = explore.plot_sentences_size_histogram(clean_sentences, bins=10)\n",
        "\n",
        "# plot boxplot\n",
        "explore.plot_sentences_size_boxplot(clean_sentences)\n",
        "\n",
        "# plot most representative words\n",
        "explore.plot_representative_tokens(clean_sentences)\n",
        "\n",
        "print('Shortest sentence has length of: {}.'.format(shortest))\n",
        "print('Longest sentence has length of:  {}.'.format(longest))\n",
        "print('Average sentence has length of:  {}.'.format(int(average)))\n",
        "print('Percentiles: {}.'.format(str(percentiles)))"
      ],
      "execution_count": 6,
      "outputs": [
        {
          "output_type": "display_data",
          "data": {
            "image/png": "[encoded data removed]",
            "text/plain": [
              "<Figure size 432x288 with 1 Axes>"
            ]
          },
          "metadata": {
            "tags": [],
            "needs_background": "light"
          }
        },
        {
          "output_type": "display_data",
          "data": {
            "image/png": "[encoded data removed]",
            "text/plain": [
              "<Figure size 432x288 with 1 Axes>"
            ]
          },
          "metadata": {
            "tags": [],
            "needs_background": "light"
          }
        },
        {
          "output_type": "stream",
          "text": [
            "Shortest sentence has length of: 9.0.\n",
            "Longest sentence has length of:  38.0.\n",
            "Average sentence has length of:  17.\n",
            "Percentiles: (9.0, 13.0, 17.0, 22.0, 38.0).\n"
          ],
          "name": "stdout"
        },
        {
          "output_type": "display_data",
          "data": {
            "image/png": "[encoded data removed]",
            "text/plain": [
              "<Figure size 1440x720 with 1 Axes>"
            ]
          },
          "metadata": {
            "tags": [],
            "needs_background": "light"
          }
        }
      ]
    },
    {
      "cell_type": "markdown",
      "metadata": {
        "id": "Ksu8eaal-6ha",
        "colab_type": "text"
      },
      "source": [
        "After replotting, we see that  we have a few less outliers and that sentences such as the article date, written by...etc just disappeared. Now, we can see that words like \"restaurant\" and \"delivery\" are understood as being important on this corpus.\n",
        "\n",
        "We now can use Gensim to summarize it.\n",
        "\n",
        "Gensim's summarizer receives as input a corpus on a string format. Documentation says that newlines are used to indicate sentences' boundaries. \n",
        "\n",
        "Our processed corpus has no punctuation, so we need a way to mark the ends of our sentences when we transform it into a long textual blob."
      ]
    },
    {
      "cell_type": "code",
      "metadata": {
        "id": "B-Tu7jYg60m-",
        "colab_type": "code",
        "colab": {
          "base_uri": "https://localhost:8080/",
          "height": 122
        },
        "outputId": "4729e974-66f1-43d8-b3fb-694c89480d87"
      },
      "source": [
        "# add a newline to the end of the processed sentences\n",
        "clean_sentences_punct = [s + '\\n' for s in clean_sentences]\n",
        "clean_sentences_punct[:5]"
      ],
      "execution_count": 7,
      "outputs": [
        {
          "output_type": "execute_result",
          "data": {
            "text/plain": [
              "['consolid local commerc servic privat ventur fund compani without communiti histori commit carri obvious risk\\n',\n",
              " 'virtual restaur brand often eye catch pun soak name seem rip short stori lorri moor a la couch endless pastabl mac futur bad mutha clucka\\n',\n",
              " 'due coronavirus pandem version long term futur reef anticip diminish automobil usag hyper local unexpect materi\\n',\n",
              " 'start compani miami name parkjockey initi offer app reserv park space advanc launch follow year london chicago\\n',\n",
              " 'chuck e chees famili restaur chain site arcad friend rat mascot recent launch virtual restaur brand pasqual pizza & wing reach broader custom base pandem\\n']"
            ]
          },
          "metadata": {
            "tags": []
          },
          "execution_count": 7
        }
      ]
    },
    {
      "cell_type": "markdown",
      "metadata": {
        "id": "zph3PvcnABZV",
        "colab_type": "text"
      },
      "source": [
        "Now, we create a dictionary that will retain the relation \"processed: original\" sentence. We will need a way, later, to map the processed sentences chosen by Gensim to the original ones. "
      ]
    },
    {
      "cell_type": "code",
      "metadata": {
        "id": "P0ve0bIG60ph",
        "colab_type": "code",
        "colab": {}
      },
      "source": [
        "# create a dict to hold the processed and the original sentences\n",
        "processed_original_sentences = dict(zip(clean_sentences_punct, sentences))"
      ],
      "execution_count": 8,
      "outputs": []
    },
    {
      "cell_type": "code",
      "metadata": {
        "id": "TiZIw6cl60rZ",
        "colab_type": "code",
        "colab": {
          "base_uri": "https://localhost:8080/",
          "height": 122
        },
        "outputId": "fc190df4-774e-4fc8-d471-11318640e0e1"
      },
      "source": [
        "# transform into full text\n",
        "text = atalaia.create_corpus(processed_original_sentences.keys())\n",
        "# get summary using gensim\n",
        "gensim_summary = gensim.summarization.summarize(text, ratio=0.1, split=True)\n",
        "gensim_summary[:5]"
      ],
      "execution_count": 9,
      "outputs": [
        {
          "output_type": "execute_result",
          "data": {
            "text/plain": [
              "['dougla upscal corner store cafe san francisco noe valley neighborhood emerg sort pickup window hand higher end restaur offer meal kit prepackag food homegrown variat reef central vision shop broker rather ventur fund startup',\n",
              " 'februari new york citi council held oversight hear impact ghost kitchen local busi matt newberg entrepreneur independ journalist testifi visit cloudkitchen commissari los angel twenti seven kitchen occupi eleven thousand squar feet oper hundr fifteen restaur deliveri platform',\n",
              " 'cloudkitchen new ventur run travi kalanick citi storag system buy real estat bring kitchen facil leas chef small busi owner whom not brick mortar space',\n",
              " 'time restaur reli sort perform basic ghost kitchen model less exist decad deliber year domino oper kitchen takeout deliveri includ one street reef trailer mission well inadvert',\n",
              " 'recent owner dosa fifteen year old upscal indian restaur locat oakland san francisco told eater plan move virtual model central commissari kitchen suppli food network twenti deliveri kitchen reheat deliv']"
            ]
          },
          "metadata": {
            "tags": []
          },
          "execution_count": 9
        }
      ]
    },
    {
      "cell_type": "markdown",
      "metadata": {
        "id": "HdRseUtZAiJS",
        "colab_type": "text"
      },
      "source": [
        "I asked Gensim to output 10% of the most important sentences in a list format.  Now, I have to map these sentences to a format we can read."
      ]
    },
    {
      "cell_type": "code",
      "metadata": {
        "id": "VMtOoYHJ60tp",
        "colab_type": "code",
        "colab": {
          "base_uri": "https://localhost:8080/",
          "height": 122
        },
        "outputId": "fa9100b3-c69d-4773-c93b-e8246f776352"
      },
      "source": [
        "# get original sentences\n",
        "final_summary = [processed_original_sentences[s+'\\n'] for s in gensim_summary]\n",
        "final_summary[:5]"
      ],
      "execution_count": 10,
      "outputs": [
        {
          "output_type": "execute_result",
          "data": {
            "text/plain": [
              "['Douglas, an upscale corner store and café in San Francisco’s Noe Valley neighborhood, has emerged as a sort of pickup window for a handful of higher-end restaurants, which offer meal kits and prepackaged food—a homegrown variation on Reef’s centralized vision, with the shop as a broker, rather than a venture-funded startup.',\n",
              " 'In February, when the New York City Council held an oversight hearing on the impact of ghost kitchens on local businesses, Matt Newberg, an entrepreneur and independent journalist, testified that he had visited a CloudKitchens commissary in Los Angeles where twenty-seven kitchens, occupying eleven thousand square feet, operated a hundred and fifteen restaurants on delivery platforms.',\n",
              " 'CloudKitchens, the new venture run by Travis Kalanick’s City Storage Systems, buys real estate, brings in kitchen facilities, and leases them to chefs and small-business owners, most of whom do not have other brick-and-mortar spaces.',\n",
              " 'At the same time, most restaurants rely on a sort of performance, and the basic ghost-kitchen model has more or less existed for decades, deliberately—for years, Domino’s has operated kitchens for only takeout and delivery, including one up the street from the Reef trailer in the Mission—as well as inadvertently.',\n",
              " 'Recently, the owners of DOSA, a fifteen-year-old upscale Indian restaurant with locations in Oakland and San Francisco, told Eater they planned to move to a virtual model: a central commissary kitchen will supply food to a network of twenty delivery-only kitchens, where it can be reheated and delivered.']"
            ]
          },
          "metadata": {
            "tags": []
          },
          "execution_count": 10
        }
      ]
    },
    {
      "cell_type": "markdown",
      "metadata": {
        "id": "Nn9C2yZU50m7",
        "colab_type": "text"
      },
      "source": [
        "This is the final text:"
      ]
    },
    {
      "cell_type": "code",
      "metadata": {
        "id": "mu-hu0mvA5kN",
        "colab_type": "code",
        "colab": {
          "base_uri": "https://localhost:8080/",
          "height": 428
        },
        "outputId": "d0ad24ce-7aea-4a20-9bd8-71b544f35ef5"
      },
      "source": [
        "print('\\n\\n'.join(final_summary))"
      ],
      "execution_count": 11,
      "outputs": [
        {
          "output_type": "stream",
          "text": [
            "Douglas, an upscale corner store and café in San Francisco’s Noe Valley neighborhood, has emerged as a sort of pickup window for a handful of higher-end restaurants, which offer meal kits and prepackaged food—a homegrown variation on Reef’s centralized vision, with the shop as a broker, rather than a venture-funded startup.\n",
            "\n",
            "In February, when the New York City Council held an oversight hearing on the impact of ghost kitchens on local businesses, Matt Newberg, an entrepreneur and independent journalist, testified that he had visited a CloudKitchens commissary in Los Angeles where twenty-seven kitchens, occupying eleven thousand square feet, operated a hundred and fifteen restaurants on delivery platforms.\n",
            "\n",
            "CloudKitchens, the new venture run by Travis Kalanick’s City Storage Systems, buys real estate, brings in kitchen facilities, and leases them to chefs and small-business owners, most of whom do not have other brick-and-mortar spaces.\n",
            "\n",
            "At the same time, most restaurants rely on a sort of performance, and the basic ghost-kitchen model has more or less existed for decades, deliberately—for years, Domino’s has operated kitchens for only takeout and delivery, including one up the street from the Reef trailer in the Mission—as well as inadvertently.\n",
            "\n",
            "Recently, the owners of DOSA, a fifteen-year-old upscale Indian restaurant with locations in Oakland and San Francisco, told Eater they planned to move to a virtual model: a central commissary kitchen will supply food to a network of twenty delivery-only kitchens, where it can be reheated and delivered.\n",
            "\n",
            "Frjtz, a San Francisco restaurant beloved for its Belgian-style fries, closed its brick-and-mortar location in the Mission in 2019, after nearly twenty years in business, and now operates—delivery only—via CloudKitchens.\n",
            "\n",
            "During recent protests against racial injustice and police brutality, restaurants across the country opened their doors to demonstrators, offering drinks, snacks, and restrooms; meanwhile, in cities with curfews, delivery apps continued to operate after-hours, placing their couriers at risk.\n",
            "\n",
            "In the Mission, an outpost of Top Round Roast Beef, a small, national, fast-casual chain restaurant, dedicates part of its kitchen to three delivery-only brands that exist solely on Uber Eats: Red Ribbon Fried Chicken, TR Burgers and Wings, and Ice Cream Custard.\n",
            "\n",
            "In recent years, Souvla, a rabidly popular chain of fast-casual Greek restaurants in San Francisco, saw thirty per cent of its business come from delivery.\n",
            "\n",
            "In response to the coronavirus, the company has been working on converting some parking lots—four in Suffolk County, New York, as of this writing—into drive-through covid-19 testing sites, and dispatching couriers to deliver food to hospital workers in San Francisco and Dallas.\n",
            "\n",
            "Using data from in-app searches, Uber Eats identifies opportunities for certain cuisines in various neighborhoods, then approaches existing brick-and-mortar restaurateurs to pitch them the idea of launching a virtual restaurant.\n",
            "\n",
            "It has also launched a new initiative in Miami, Calling All Restaurants, to help existing brick-and-mortar locations set up delivery-only restaurants in Reef kitchens.\n"
          ],
          "name": "stdout"
        }
      ]
    },
    {
      "cell_type": "markdown",
      "metadata": {
        "id": "__m88y3XBeFB",
        "colab_type": "text"
      },
      "source": [
        "Curious to see the tokens considered as importants? Use the keywords method."
      ]
    },
    {
      "cell_type": "code",
      "metadata": {
        "id": "QRS47d9sBcUu",
        "colab_type": "code",
        "colab": {
          "base_uri": "https://localhost:8080/",
          "height": 170
        },
        "outputId": "e18f9c12-e113-439c-fd6f-5787e5d744d3"
      },
      "source": [
        "# print keywords\n",
        "from gensim.summarization import keywords\n",
        "print(keywords(text, ratio=0.01))"
      ],
      "execution_count": 12,
      "outputs": [
        {
          "output_type": "stream",
          "text": [
            "restaur\n",
            "deliveri\n",
            "kitchen\n",
            "reef\n",
            "citi\n",
            "food\n",
            "like\n",
            "new\n",
            "park space\n"
          ],
          "name": "stdout"
        }
      ]
    }
  ]
}