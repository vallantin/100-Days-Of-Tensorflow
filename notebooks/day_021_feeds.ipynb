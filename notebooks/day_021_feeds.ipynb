{
 "cells": [
  {
   "cell_type": "markdown",
   "metadata": {},
   "source": [
    "# Discover rss feeds in pages"
   ]
  },
  {
   "cell_type": "code",
   "execution_count": 1,
   "metadata": {},
   "outputs": [],
   "source": [
    "# imports \n",
    "import requests\n",
    "from bs4 import BeautifulSoup\n",
    "import feedparser\n",
    "import re"
   ]
  },
  {
   "cell_type": "code",
   "execution_count": 2,
   "metadata": {},
   "outputs": [],
   "source": [
    "# get page using its url\n",
    "url = 'https://www.linfodurable.fr'\n",
    "page = requests.get(url)"
   ]
  },
  {
   "cell_type": "code",
   "execution_count": 3,
   "metadata": {},
   "outputs": [
    {
     "name": "stdout",
     "output_type": "stream",
     "text": [
      "Feed is: https://www.linfodurable.fr/rss.xml\n"
     ]
    }
   ],
   "source": [
    "# check if request was 200\n",
    "if page.status_code == 200:\n",
    "    # if so, get soup\n",
    "    soup = BeautifulSoup(page.text, 'html.parser')  \n",
    "    # look for a feed\n",
    "    for a in soup.find_all('a', href = re.compile(r'\\.rss|\\.xml')):\n",
    "        if a['href'].startswith('http') == False:\n",
    "            feed = url + a['href']\n",
    "            print('Feed is: {}'.format(feed))\n",
    "        else:\n",
    "            feed = a['href']\n",
    "            print('Feed is: {}'.format(feed))\n",
    "else:\n",
    "    print('Sorry, couldn\\'t find any feed')"
   ]
  },
  {
   "cell_type": "code",
   "execution_count": 4,
   "metadata": {},
   "outputs": [],
   "source": [
    "# parse feed\n",
    "feed = feedparser.parse(feed)"
   ]
  },
  {
   "cell_type": "code",
   "execution_count": 5,
   "metadata": {},
   "outputs": [
    {
     "data": {
      "text/plain": [
       "{'title': 'Ile-de-France: des masques gratuits pour les lycéens, annonce Pécresse',\n",
       " 'title_detail': {'type': 'text/plain',\n",
       "  'language': 'fr',\n",
       "  'base': 'https://www.linfodurable.fr/rss.xml',\n",
       "  'value': 'Ile-de-France: des masques gratuits pour les lycéens, annonce Pécresse'},\n",
       " 'links': [{'rel': 'alternate',\n",
       "   'type': 'text/html',\n",
       "   'href': 'https://www.linfodurable.fr/ile-de-france-des-masques-gratuits-pour-les-lyceens-annonce-pecresse-19176'}],\n",
       " 'link': 'https://www.linfodurable.fr/ile-de-france-des-masques-gratuits-pour-les-lyceens-annonce-pecresse-19176',\n",
       " 'summary': '',\n",
       " 'summary_detail': {'type': 'text/html',\n",
       "  'language': 'fr',\n",
       "  'base': 'https://www.linfodurable.fr/rss.xml',\n",
       "  'value': ''},\n",
       " 'published': 'Wed, 22 Jul 2020 06:28:55 +0000',\n",
       " 'published_parsed': time.struct_time(tm_year=2020, tm_mon=7, tm_mday=22, tm_hour=6, tm_min=28, tm_sec=55, tm_wday=2, tm_yday=204, tm_isdst=0),\n",
       " 'id': '19176 at https://www.linfodurable.fr',\n",
       " 'guidislink': False}"
      ]
     },
     "execution_count": 5,
     "metadata": {},
     "output_type": "execute_result"
    }
   ],
   "source": [
    "# check the first entry\n",
    "feed.entries[0]"
   ]
  },
  {
   "cell_type": "code",
   "execution_count": 6,
   "metadata": {},
   "outputs": [
    {
     "data": {
      "text/plain": [
       "['Ile-de-France: des masques gratuits pour les lycéens, annonce Pécresse',\n",
       " 'Miimosa : le financement participatif au service de la transition agricole',\n",
       " 'Macron à la rencontre de jeunes mercredi à Chambord',\n",
       " '\"Un guide des bonnes pratiques\" pour faire progresser la parité dans l\\'industrie',\n",
       " '\"L’avenir sera ce que nous en ferons\"',\n",
       " 'Volerons-nous avec des avions hybrides électriques en 2028 ?',\n",
       " \"L'agriculture doit contribuer plus à la production d'énergies (rapport parlementaire)\",\n",
       " \"Recyclez votre vieux téléphone portable en l'envoyant par courrier\",\n",
       " 'Café, fruits et lumière suffisent à faire fuir les moustiques',\n",
       " 'Gironde : un dirigeable alternatif pour charges lourdes décollera en 2024',\n",
       " '1000 km à vélo et en kayak pour sauver la Méditerranée',\n",
       " 'Trois plateformes pour louer ses vêtements',\n",
       " 'Lille : Extinction Rebellion déploie 170 m de vêtements contre la fast fashion',\n",
       " 'En Provence, un arboriculteur produit des fruits en irriguant \"de façon raisonnée\"',\n",
       " 'Plus de transparence : l’heure de la\\xa0fashion\\xa0revolution\\xa0a sonné',\n",
       " '\"L’impact de la mode est plus important que les vols internationaux et le trafic maritime réunis\"',\n",
       " \"Fast fashion : “C'est un secteur où il y a une violation massive des droits humains au travail”\",\n",
       " \"La police de l'environnement part à la rencontre des touristes cet été\",\n",
       " 'Convention climat: \"quelques\" annonces la semaine prochaine, indique le gouvernement',\n",
       " 'Erosion côtière: le sénat vote l\\'indemnisation des propriétaires du \"Signal\"',\n",
       " 'Vosges: un pique-nique pour protester contre le bruit des motos',\n",
       " 'Francus, des vêtements de sport stylés, éco-responsables et polyvalents !',\n",
       " 'Réparation : comment faire durer son électroménager ?',\n",
       " \"Après la crise sanitaire, la filière lin rêve d'une relocalisation en France\",\n",
       " '8 Français sur 10 sont adeptes des meubles d’occasion',\n",
       " 'Miel Martine, des miels savoureux français d’exception !',\n",
       " 'Comment être écologique avec un animal de compagnie ?',\n",
       " 'Cette marque de cosmétiques coche toutes les cases : bio, végan, zéro déchet',\n",
       " 'Suppression de la taxe d\\'habitation pour les plus riches: le calendrier sera \"maintenu\", dit Castex',\n",
       " 'Finistère: port du masque obligatoire sur de nouveaux marchés',\n",
       " 'Commerce en ligne: Pompili propose un moratoire sur les projets de nouveaux entrepôts',\n",
       " 'La Moselle et le Doubs placés en alerte à la sécheresse',\n",
       " \"Jean Castex s'est rendu dans une plateforme du Secours populaire du Val-d'Oise\",\n",
       " \"Près de Nice, des camions d'ordures roulent avec un carburant à base de déchets en plastique\",\n",
       " 'Le concours de gobage de hot dogs passé au crible des maths',\n",
       " 'La Moselle placée en alerte à la sécheresse',\n",
       " 'Commerce en ligne: Pompili propose un moratoire sur les projets de nouveaux entrepôts',\n",
       " 'Trois festivals engagés maintenus à découvrir prochainement',\n",
       " 'Une plateforme en ligne pour vendre ses surplus de fruits et légumes entre voisins',\n",
       " \"L'intégration ESG renforcée par la crise sanitaire\",\n",
       " 'La récente canicule en Sibérie \"presque impossible\" sans le changement climatique',\n",
       " 'Cinq alternatives aux films et sachets en plastique',\n",
       " 'Transition écologique: Le Maire \"favorable\" à une augmentation de l\\'enveloppe',\n",
       " 'Fondation Tara Océan : \"Au lieu de jeter les sacs plastiques, mieux vaut les manger\"',\n",
       " 'Atelier populaire : des savons à froid bio aux parfums uniques !',\n",
       " 'Les cinq annonces de Castex pour la transition écologique',\n",
       " 'Indépendance, écologie, solidarité et compétences: les quatre volets du plan de relance',\n",
       " 'Le plan de relance portera un \"plan vélo très ambitieux\" (Castex)',\n",
       " 'Aviva Investors : une gamme ISR diversifiée pour les investisseurs en quête de sens',\n",
       " \"Le plan de relance consacrera 20 milliards d'euros à la rénovation thermique des bâtiments\",\n",
       " 'KIDO, des lampes éco design ludiques et Made in France !',\n",
       " 'Le méthane, un puissant agent du réchauffement, est en forte hausse',\n",
       " \"Quand l'économie circulaire devient un argument de vente dans le textile\",\n",
       " 'Vacances : trois activités manuelles et écolos à faire avec les enfants',\n",
       " 'À Sydney, 100 % des énergies utilisées sont désormais renouvelables',\n",
       " 'Chine, Nigeria, Inde... Quelles populations en 2100?',\n",
       " \"Macron annonce 100 milliards d'euros de plus pour une relance tous azimuts\",\n",
       " 'Des microplastiques issus du trafic routier jusque dans les océans selon une étude',\n",
       " 'Fun’Ethic, des produits cosmétiques éthiques et innovants pour tout âge !',\n",
       " 'Macron veut inscrire \"le plus vite possible\" la lutte contre le réchauffement dans la Constitution',\n",
       " '\"Au moins 100 milliards\" d\\'euros pour le plan de relance (Macron)',\n",
       " 'Macron veut \"redévelopper massivement\" fret ferroviaire, trains de nuit et petites lignes',\n",
       " 'Macron veut un \"grand programme de rénovation\" énergétique des écoles et des Ehpad',\n",
       " 'Macron veut inscrire \"le plus vite possible\" la lutte contre le réchauffement climatique dans la Constitution',\n",
       " 'En Ariège, un village entier se convertit aux voitures électriques',\n",
       " 'Coronavirus: le point sur la pandémie',\n",
       " 'Macron: \"crucial\" que l\\'Europe s\\'empare du dossier méditerranéen',\n",
       " 'Les canicules africaines très largement ignorées (étude)',\n",
       " 'Snooze, première marque écoresponsable de céréales gourmandes\\u202f!',\n",
       " 'Cinq alternatives aux pailles en plastique jetables',\n",
       " 'Louis Vuitton se met au vert, avec des collections homme désormais recyclées',\n",
       " 'Sept grands fleuves européens pollués par des masques et des gants',\n",
       " \"À Cassis, les célèbres 2CV roulent désormais à l'électrique\",\n",
       " \"Le foot\\xa0comme vecteur de transition pour l'association Football Écologie France\",\n",
       " 'Second Sew, des pièces upcyclées uniques et 100 % responsables pour les tous petits !',\n",
       " 'Rafraîchir son logement sans climatisation, simplement et à moindre coût',\n",
       " 'Yann Arthus-Bertrand : \"L\\'écologie pour mourir avec le sourire\"',\n",
       " 'Les maires écolos seront \"des partenaires\", assure Barbara Pompili',\n",
       " \"Alsace: manifestation contre un projet d'entrepôt d'Amazon\",\n",
       " \"Corse: manifestation contre un projet de centre d'enfouissement de déchets\",\n",
       " 'Castex n\\'incarne pas le \"changement écologique\" souhaité, selon Tubiana',\n",
       " 'Trois idées de transports neutres et insolites',\n",
       " \"La cueillette de l'arnica réduite à la portion congrue cette année dans les Vosges\",\n",
       " 'Une police de l’environnement va patrouiller dans les zones touristiques',\n",
       " 'Crise sanitaire: visite express de Castex en Guyane dimanche',\n",
       " 'Paris: des visites guidées gratuites en \"soutien\" aux guides conférenciers privés de touristes',\n",
       " \"Sécheresse: premières limitations d'usage de l'eau en Meurthe-et-Moselle\",\n",
       " 'Un appel à projet pour pérenniser les \"coronapistes\" pour vélos',\n",
       " 'Covid-19: 23 cas confirmés à la centrale nucléaire de Belleville-sur-Loire',\n",
       " \"Lyon: un entrepreneur offre 2 tonnes de haricots bio pour saluer l'arrivée des Verts\",\n",
       " 'A Nantes, un labo traque le Covid sur les côtes françaises',\n",
       " 'Recyclage des plastiques: Kem One accompagne une nouvelle expérimentation',\n",
       " \"L'état du littoral s'améliore, mais souffre de l'activité humaine\",\n",
       " 'Vacances : neuf livres écolos à lire cet été pour petits et grands',\n",
       " 'Le logement reste un ministère \"entier\", assure sa nouvelle ministre',\n",
       " \"Crise sanitaire: l'avenir incertain du projet d'extension de l'aéroport de Roissy\",\n",
       " 'Santé: un laboratoire rennais tente de percer les mystères de \"l\\'exposome\"',\n",
       " '\"Verdir\" la publicité: les députés EDS prennent les devants',\n",
       " 'Les Pays-Bas votent l’abandon du plastique à usage unique en 2021',\n",
       " 'La Bretagne demande la régionalisation de la PAC']"
      ]
     },
     "execution_count": 6,
     "metadata": {},
     "output_type": "execute_result"
    }
   ],
   "source": [
    "# Or get the titles... \n",
    "titles = [entry.title for entry in feed.entries]\n",
    "titles"
   ]
  },
  {
   "cell_type": "code",
   "execution_count": null,
   "metadata": {},
   "outputs": [],
   "source": []
  }
 ],
 "metadata": {
  "kernelspec": {
   "display_name": "Python 3",
   "language": "python",
   "name": "python3"
  },
  "language_info": {
   "codemirror_mode": {
    "name": "ipython",
    "version": 3
   },
   "file_extension": ".py",
   "mimetype": "text/x-python",
   "name": "python",
   "nbconvert_exporter": "python",
   "pygments_lexer": "ipython3",
   "version": "3.7.7"
  }
 },
 "nbformat": 4,
 "nbformat_minor": 4
}
