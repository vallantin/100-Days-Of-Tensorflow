{
  "nbformat": 4,
  "nbformat_minor": 0,
  "metadata": {
    "colab": {
      "name": "day_011_tweak_model.ipynb",
      "provenance": [],
      "collapsed_sections": [],
      "toc_visible": true
    },
    "kernelspec": {
      "name": "python3",
      "display_name": "Python 3"
    },
    "accelerator": "GPU"
  },
  "cells": [
    {
      "cell_type": "markdown",
      "metadata": {
        "id": "KPaKefElDJjw",
        "colab_type": "text"
      },
      "source": [
        "# Tweak model"
      ]
    },
    {
      "cell_type": "code",
      "metadata": {
        "id": "BEBGClIVSgtr",
        "colab_type": "code",
        "colab": {
          "base_uri": "https://localhost:8080/",
          "height": 1000
        },
        "outputId": "d5b779b4-23a8-45ba-c550-55bc61685c40"
      },
      "source": [
        "# imports\n",
        "import tensorflow as tf\n",
        "from tensorflow.keras.preprocessing.text import Tokenizer\n",
        "from tensorflow.keras.preprocessing.sequence import pad_sequences\n",
        "import matplotlib.pyplot as plt\n",
        "\n",
        "import numpy as np\n",
        "import pandas as pd\n",
        "\n",
        "# get data\n",
        "!wget --no-check-certificate \\\n",
        "    -O /tmp/sentiment.csv https://drive.google.com/uc?id=13ySLC_ue6Umt9RJYSeM2t-V0kCv-4C-P\n",
        "\n",
        "# define get_data function\n",
        "def get_data(path):\n",
        "  data = pd.read_csv(path, index_col=0)\n",
        "  return data\n",
        "\n",
        "#get the data\n",
        "data = get_data('/tmp/sentiment.csv')\n",
        "\n",
        "# clone package repository\n",
        "!git clone https://github.com/vallantin/atalaia.git\n",
        "\n",
        "# navigate to atalaia directory\n",
        "%cd atalaia\n",
        "\n",
        "# install packages requirements\n",
        "!pip install -r requirements.txt\n",
        "\n",
        "# install package\n",
        "!python setup.py install\n",
        "\n",
        "# import it\n",
        "from atalaia.atalaia import Atalaia\n",
        "\n",
        "#def pre-process function\n",
        "def preprocess(panda_series):\n",
        "  atalaia = Atalaia('en')\n",
        "\n",
        "  # lower case everyting and remove double spaces\n",
        "  panda_series = (atalaia.lower_remove_white(t) for t in panda_series)\n",
        "\n",
        "  # expand contractions\n",
        "  panda_series = (atalaia.expand_contractions(t) for t in panda_series)\n",
        "\n",
        "  # remove punctuation\n",
        "  panda_series = (atalaia.remove_punctuation(t) for t in panda_series)\n",
        "\n",
        "  # remove numbers\n",
        "  panda_series = (atalaia.remove_numbers(t) for t in panda_series)\n",
        "\n",
        "  # remove stopwords\n",
        "  panda_series = (atalaia.remove_stopwords(t) for t in panda_series)\n",
        "\n",
        "  # remove excessive spaces\n",
        "  panda_series = (atalaia.remove_excessive_spaces(t) for t in panda_series)\n",
        "\n",
        "  return panda_series\n",
        "\n",
        "# preprocess it\n",
        "preprocessed_text = preprocess(data.text)\n",
        "\n",
        "# assign preprocessed texts to dataset\n",
        "data['text']      = list(preprocessed_text)\n",
        "\n",
        "# split train/test\n",
        "# shuffle the dataset\n",
        "data = data.sample(frac=1)\n",
        "\n",
        "# separate all classes present on the dataset\n",
        "classes_dict = {}\n",
        "for label in [0,1]:\n",
        "  classes_dict[label] = data[data['sentiment'] == label]\n",
        "\n",
        "# get 80% of each label\n",
        "size = int(len(classes_dict[0].text) * 0.8)\n",
        "X_train = list(classes_dict[0].text[0:size])      + list(classes_dict[1].text[0:size])\n",
        "X_test  = list(classes_dict[0].text[size:])       + list(classes_dict[1].text[size:])\n",
        "y_train = list(classes_dict[0].sentiment[0:size]) + list(classes_dict[1].sentiment[0:size])\n",
        "y_test  = list(classes_dict[0].sentiment[size:])  + list(classes_dict[1].sentiment[size:])\n",
        "\n",
        "# Convert labels to Numpy arrays\n",
        "y_train = np.array(y_train)\n",
        "y_test = np.array(y_test)"
      ],
      "execution_count": 1,
      "outputs": [
        {
          "output_type": "stream",
          "text": [
            "--2020-07-07 07:23:23--  https://drive.google.com/uc?id=13ySLC_ue6Umt9RJYSeM2t-V0kCv-4C-P\n",
            "Resolving drive.google.com (drive.google.com)... 173.194.210.101, 173.194.210.102, 173.194.210.138, ...\n",
            "Connecting to drive.google.com (drive.google.com)|173.194.210.101|:443... connected.\n",
            "HTTP request sent, awaiting response... 302 Moved Temporarily\n",
            "Location: https://doc-08-ak-docs.googleusercontent.com/docs/securesc/ha0ro937gcuc7l7deffksulhg5h7mbp1/dqd92ot3n3plgc165jpak27sq2is268f/1594106550000/11118900490791463723/*/13ySLC_ue6Umt9RJYSeM2t-V0kCv-4C-P [following]\n",
            "Warning: wildcards not supported in HTTP.\n",
            "--2020-07-07 07:23:24--  https://doc-08-ak-docs.googleusercontent.com/docs/securesc/ha0ro937gcuc7l7deffksulhg5h7mbp1/dqd92ot3n3plgc165jpak27sq2is268f/1594106550000/11118900490791463723/*/13ySLC_ue6Umt9RJYSeM2t-V0kCv-4C-P\n",
            "Resolving doc-08-ak-docs.googleusercontent.com (doc-08-ak-docs.googleusercontent.com)... 173.194.217.132, 2607:f8b0:400c:c13::84\n",
            "Connecting to doc-08-ak-docs.googleusercontent.com (doc-08-ak-docs.googleusercontent.com)|173.194.217.132|:443... connected.\n",
            "HTTP request sent, awaiting response... 200 OK\n",
            "Length: 127831 (125K) [text/csv]\n",
            "Saving to: ‘/tmp/sentiment.csv’\n",
            "\n",
            "\r/tmp/sentiment.csv    0%[                    ]       0  --.-KB/s               \r/tmp/sentiment.csv  100%[===================>] 124.83K  --.-KB/s    in 0.001s  \n",
            "\n",
            "2020-07-07 07:23:24 (97.3 MB/s) - ‘/tmp/sentiment.csv’ saved [127831/127831]\n",
            "\n",
            "Cloning into 'atalaia'...\n",
            "remote: Enumerating objects: 67, done.\u001b[K\n",
            "remote: Counting objects: 100% (67/67), done.\u001b[K\n",
            "remote: Compressing objects: 100% (42/42), done.\u001b[K\n",
            "remote: Total 67 (delta 29), reused 59 (delta 21), pack-reused 0\u001b[K\n",
            "Unpacking objects: 100% (67/67), done.\n",
            "/content/atalaia\n",
            "Requirement already satisfied: nltk in /usr/local/lib/python3.6/dist-packages (from -r requirements.txt (line 1)) (3.2.5)\n",
            "Requirement already satisfied: tqdm in /usr/local/lib/python3.6/dist-packages (from -r requirements.txt (line 2)) (4.41.1)\n",
            "Collecting emoji\n",
            "\u001b[?25l  Downloading https://files.pythonhosted.org/packages/40/8d/521be7f0091fe0f2ae690cc044faf43e3445e0ff33c574eae752dd7e39fa/emoji-0.5.4.tar.gz (43kB)\n",
            "\u001b[K     |████████████████████████████████| 51kB 1.6MB/s \n",
            "\u001b[?25hRequirement already satisfied: numpy in /usr/local/lib/python3.6/dist-packages (from -r requirements.txt (line 4)) (1.18.5)\n",
            "Requirement already satisfied: pandas in /usr/local/lib/python3.6/dist-packages (from -r requirements.txt (line 5)) (1.0.5)\n",
            "Requirement already satisfied: matplotlib in /usr/local/lib/python3.6/dist-packages (from -r requirements.txt (line 6)) (3.2.2)\n",
            "Requirement already satisfied: scikit-learn in /usr/local/lib/python3.6/dist-packages (from -r requirements.txt (line 7)) (0.22.2.post1)\n",
            "Requirement already satisfied: gensim in /usr/local/lib/python3.6/dist-packages (from -r requirements.txt (line 8)) (3.6.0)\n",
            "Requirement already satisfied: six in /usr/local/lib/python3.6/dist-packages (from nltk->-r requirements.txt (line 1)) (1.12.0)\n",
            "Requirement already satisfied: pytz>=2017.2 in /usr/local/lib/python3.6/dist-packages (from pandas->-r requirements.txt (line 5)) (2018.9)\n",
            "Requirement already satisfied: python-dateutil>=2.6.1 in /usr/local/lib/python3.6/dist-packages (from pandas->-r requirements.txt (line 5)) (2.8.1)\n",
            "Requirement already satisfied: pyparsing!=2.0.4,!=2.1.2,!=2.1.6,>=2.0.1 in /usr/local/lib/python3.6/dist-packages (from matplotlib->-r requirements.txt (line 6)) (2.4.7)\n",
            "Requirement already satisfied: kiwisolver>=1.0.1 in /usr/local/lib/python3.6/dist-packages (from matplotlib->-r requirements.txt (line 6)) (1.2.0)\n",
            "Requirement already satisfied: cycler>=0.10 in /usr/local/lib/python3.6/dist-packages (from matplotlib->-r requirements.txt (line 6)) (0.10.0)\n",
            "Requirement already satisfied: joblib>=0.11 in /usr/local/lib/python3.6/dist-packages (from scikit-learn->-r requirements.txt (line 7)) (0.15.1)\n",
            "Requirement already satisfied: scipy>=0.17.0 in /usr/local/lib/python3.6/dist-packages (from scikit-learn->-r requirements.txt (line 7)) (1.4.1)\n",
            "Requirement already satisfied: smart-open>=1.2.1 in /usr/local/lib/python3.6/dist-packages (from gensim->-r requirements.txt (line 8)) (2.0.0)\n",
            "Requirement already satisfied: requests in /usr/local/lib/python3.6/dist-packages (from smart-open>=1.2.1->gensim->-r requirements.txt (line 8)) (2.23.0)\n",
            "Requirement already satisfied: boto3 in /usr/local/lib/python3.6/dist-packages (from smart-open>=1.2.1->gensim->-r requirements.txt (line 8)) (1.14.9)\n",
            "Requirement already satisfied: boto in /usr/local/lib/python3.6/dist-packages (from smart-open>=1.2.1->gensim->-r requirements.txt (line 8)) (2.49.0)\n",
            "Requirement already satisfied: urllib3!=1.25.0,!=1.25.1,<1.26,>=1.21.1 in /usr/local/lib/python3.6/dist-packages (from requests->smart-open>=1.2.1->gensim->-r requirements.txt (line 8)) (1.24.3)\n",
            "Requirement already satisfied: chardet<4,>=3.0.2 in /usr/local/lib/python3.6/dist-packages (from requests->smart-open>=1.2.1->gensim->-r requirements.txt (line 8)) (3.0.4)\n",
            "Requirement already satisfied: idna<3,>=2.5 in /usr/local/lib/python3.6/dist-packages (from requests->smart-open>=1.2.1->gensim->-r requirements.txt (line 8)) (2.9)\n",
            "Requirement already satisfied: certifi>=2017.4.17 in /usr/local/lib/python3.6/dist-packages (from requests->smart-open>=1.2.1->gensim->-r requirements.txt (line 8)) (2020.6.20)\n",
            "Requirement already satisfied: s3transfer<0.4.0,>=0.3.0 in /usr/local/lib/python3.6/dist-packages (from boto3->smart-open>=1.2.1->gensim->-r requirements.txt (line 8)) (0.3.3)\n",
            "Requirement already satisfied: botocore<1.18.0,>=1.17.9 in /usr/local/lib/python3.6/dist-packages (from boto3->smart-open>=1.2.1->gensim->-r requirements.txt (line 8)) (1.17.9)\n",
            "Requirement already satisfied: jmespath<1.0.0,>=0.7.1 in /usr/local/lib/python3.6/dist-packages (from boto3->smart-open>=1.2.1->gensim->-r requirements.txt (line 8)) (0.10.0)\n",
            "Requirement already satisfied: docutils<0.16,>=0.10 in /usr/local/lib/python3.6/dist-packages (from botocore<1.18.0,>=1.17.9->boto3->smart-open>=1.2.1->gensim->-r requirements.txt (line 8)) (0.15.2)\n",
            "Building wheels for collected packages: emoji\n",
            "  Building wheel for emoji (setup.py) ... \u001b[?25l\u001b[?25hdone\n",
            "  Created wheel for emoji: filename=emoji-0.5.4-cp36-none-any.whl size=42176 sha256=31d068e43f01d5ae3b26e6be8ab57546712c4634c288d4da820e3acccfe91018\n",
            "  Stored in directory: /root/.cache/pip/wheels/2a/a9/0a/4f8e8cce8074232aba240caca3fade315bb49fac68808d1a9c\n",
            "Successfully built emoji\n",
            "Installing collected packages: emoji\n",
            "Successfully installed emoji-0.5.4\n",
            "running install\n",
            "running bdist_egg\n",
            "running egg_info\n",
            "creating Atalaia.egg-info\n",
            "writing Atalaia.egg-info/PKG-INFO\n",
            "writing dependency_links to Atalaia.egg-info/dependency_links.txt\n",
            "writing top-level names to Atalaia.egg-info/top_level.txt\n",
            "writing manifest file 'Atalaia.egg-info/SOURCES.txt'\n",
            "reading manifest template 'MANIFEST.in'\n",
            "writing manifest file 'Atalaia.egg-info/SOURCES.txt'\n",
            "installing library code to build/bdist.linux-x86_64/egg\n",
            "running install_lib\n",
            "running build_py\n",
            "creating build\n",
            "creating build/lib\n",
            "creating build/lib/atalaia\n",
            "copying atalaia/files.py -> build/lib/atalaia\n",
            "copying atalaia/__init__.py -> build/lib/atalaia\n",
            "copying atalaia/atalaia.py -> build/lib/atalaia\n",
            "copying atalaia/strings.py -> build/lib/atalaia\n",
            "copying atalaia/vectors.py -> build/lib/atalaia\n",
            "creating build/lib/atalaia/assets\n",
            "copying atalaia/assets/__init__.py -> build/lib/atalaia/assets\n",
            "copying atalaia/assets/contractions.py -> build/lib/atalaia/assets\n",
            "copying atalaia/assets/stopwords.py -> build/lib/atalaia/assets\n",
            "creating build/bdist.linux-x86_64\n",
            "creating build/bdist.linux-x86_64/egg\n",
            "creating build/bdist.linux-x86_64/egg/atalaia\n",
            "copying build/lib/atalaia/files.py -> build/bdist.linux-x86_64/egg/atalaia\n",
            "copying build/lib/atalaia/__init__.py -> build/bdist.linux-x86_64/egg/atalaia\n",
            "copying build/lib/atalaia/atalaia.py -> build/bdist.linux-x86_64/egg/atalaia\n",
            "copying build/lib/atalaia/strings.py -> build/bdist.linux-x86_64/egg/atalaia\n",
            "copying build/lib/atalaia/vectors.py -> build/bdist.linux-x86_64/egg/atalaia\n",
            "creating build/bdist.linux-x86_64/egg/atalaia/assets\n",
            "copying build/lib/atalaia/assets/__init__.py -> build/bdist.linux-x86_64/egg/atalaia/assets\n",
            "copying build/lib/atalaia/assets/contractions.py -> build/bdist.linux-x86_64/egg/atalaia/assets\n",
            "copying build/lib/atalaia/assets/stopwords.py -> build/bdist.linux-x86_64/egg/atalaia/assets\n",
            "byte-compiling build/bdist.linux-x86_64/egg/atalaia/files.py to files.cpython-36.pyc\n",
            "byte-compiling build/bdist.linux-x86_64/egg/atalaia/__init__.py to __init__.cpython-36.pyc\n",
            "byte-compiling build/bdist.linux-x86_64/egg/atalaia/atalaia.py to atalaia.cpython-36.pyc\n",
            "byte-compiling build/bdist.linux-x86_64/egg/atalaia/strings.py to strings.cpython-36.pyc\n",
            "byte-compiling build/bdist.linux-x86_64/egg/atalaia/vectors.py to vectors.cpython-36.pyc\n",
            "byte-compiling build/bdist.linux-x86_64/egg/atalaia/assets/__init__.py to __init__.cpython-36.pyc\n",
            "byte-compiling build/bdist.linux-x86_64/egg/atalaia/assets/contractions.py to contractions.cpython-36.pyc\n",
            "byte-compiling build/bdist.linux-x86_64/egg/atalaia/assets/stopwords.py to stopwords.cpython-36.pyc\n",
            "creating build/bdist.linux-x86_64/egg/EGG-INFO\n",
            "copying Atalaia.egg-info/PKG-INFO -> build/bdist.linux-x86_64/egg/EGG-INFO\n",
            "copying Atalaia.egg-info/SOURCES.txt -> build/bdist.linux-x86_64/egg/EGG-INFO\n",
            "copying Atalaia.egg-info/dependency_links.txt -> build/bdist.linux-x86_64/egg/EGG-INFO\n",
            "copying Atalaia.egg-info/top_level.txt -> build/bdist.linux-x86_64/egg/EGG-INFO\n",
            "zip_safe flag not set; analyzing archive contents...\n",
            "creating dist\n",
            "creating 'dist/Atalaia-0.3.0-py3.6.egg' and adding 'build/bdist.linux-x86_64/egg' to it\n",
            "removing 'build/bdist.linux-x86_64/egg' (and everything under it)\n",
            "Processing Atalaia-0.3.0-py3.6.egg\n",
            "Copying Atalaia-0.3.0-py3.6.egg to /usr/local/lib/python3.6/dist-packages\n",
            "Adding Atalaia 0.3.0 to easy-install.pth file\n",
            "\n",
            "Installed /usr/local/lib/python3.6/dist-packages/Atalaia-0.3.0-py3.6.egg\n",
            "Processing dependencies for Atalaia==0.3.0\n",
            "Finished processing dependencies for Atalaia==0.3.0\n"
          ],
          "name": "stdout"
        }
      ]
    },
    {
      "cell_type": "markdown",
      "metadata": {
        "id": "o7_SLJdoJfDA",
        "colab_type": "text"
      },
      "source": [
        "Let's change the vocab_size, embedding_dim and max_length to see if it affects performance. "
      ]
    },
    {
      "cell_type": "code",
      "metadata": {
        "id": "U93508drJcG0",
        "colab_type": "code",
        "colab": {}
      },
      "source": [
        "# get a smaller vocab size\n",
        "vocab_size = 500\n",
        "oov_tok = \"<OOV>\"\n",
        "\n",
        "# start tokenize\n",
        "tokenizer = Tokenizer(num_words=vocab_size, \n",
        "                      oov_token=oov_tok)\n",
        "\n",
        "# fit on training\n",
        "# we don't fit on test because, in real life, our model will have to deal with\n",
        "# words ir never saw before. So, it makes sense fitting only on training.\n",
        "# when it finds a word it never saw before, it will assign the \n",
        "# <OOV> tag to it.\n",
        "tokenizer.fit_on_texts(X_train)\n",
        "\n",
        "# get the word index\n",
        "word_index = tokenizer.word_index\n",
        "\n",
        "# transform into sequences\n",
        "# this will assign a index to the tokens present on the corpus\n",
        "sequences = tokenizer.texts_to_sequences(X_train)\n",
        "\n",
        "# we will also decrease the max_length \n",
        "max_length = 50\n",
        "\n",
        "# post: pad or truncate after sentence.\n",
        "# pre: pad or truncate before sentence.\n",
        "trunc_type='post'\n",
        "padding_type='post'\n",
        "\n",
        "padded = pad_sequences(sequences,\n",
        "                       maxlen=max_length, \n",
        "                       padding=padding_type, \n",
        "                       truncating=trunc_type)\n",
        "\n",
        "# tokenize and pad test sentences\n",
        "# thse will be used later on the model for accuracy test\n",
        "X_test_sequences = tokenizer.texts_to_sequences(X_test)\n",
        "\n",
        "X_test_padded    = pad_sequences(X_test_sequences,\n",
        "                                 maxlen=max_length, \n",
        "                                 padding=padding_type, \n",
        "                                 truncating=trunc_type)\n",
        "\n",
        "# create the reverse word index\n",
        "reverse_word_index = dict([(value, key) for (key, value) in word_index.items()])\n",
        "\n",
        "# create the decoder\n",
        "def text_decoder(text):\n",
        "    return ' '.join([reverse_word_index.get(i, '?') for i in text])"
      ],
      "execution_count": 26,
      "outputs": []
    },
    {
      "cell_type": "markdown",
      "metadata": {
        "id": "6WPMN2N6Db1w",
        "colab_type": "text"
      },
      "source": [
        "Finally, let's get a smaller dimensional space and compile the model. "
      ]
    },
    {
      "cell_type": "code",
      "metadata": {
        "id": "sk0fxlBMDijx",
        "colab_type": "code",
        "colab": {}
      },
      "source": [
        "# Build network\n",
        "embedding_dim = 100\n",
        "\n",
        "model = tf.keras.Sequential([\n",
        "    tf.keras.layers.Embedding(vocab_size, embedding_dim, input_length=max_length),\n",
        "    tf.keras.layers.Flatten(),\n",
        "    tf.keras.layers.Dense(256, activation='relu'),\n",
        "    tf.keras.layers.Dropout(0.5),\n",
        "    tf.keras.layers.Dense(100, activation='relu'),\n",
        "    tf.keras.layers.Dropout(0.5),\n",
        "    tf.keras.layers.Dense(1, activation='sigmoid')\n",
        "])\n",
        "\n",
        "model.compile(loss='binary_crossentropy',optimizer='adam',metrics=['accuracy'])"
      ],
      "execution_count": 27,
      "outputs": []
    },
    {
      "cell_type": "markdown",
      "metadata": {
        "id": "C7rHkkKJCTms",
        "colab_type": "text"
      },
      "source": [
        "When training the model, assign the training process to the variable history. Let's also increase the number of epochs."
      ]
    },
    {
      "cell_type": "code",
      "metadata": {
        "id": "lopk15EyCGCL",
        "colab_type": "code",
        "colab": {
          "base_uri": "https://localhost:8080/",
          "height": 1000
        },
        "outputId": "84d5cc9d-c3aa-4ee4-a73f-bc86f32c2fd9"
      },
      "source": [
        "# train the model\n",
        "num_epochs = 30\n",
        "history = model.fit(padded, \n",
        "                    y_train, \n",
        "                    epochs=num_epochs,\n",
        "                    batch_size=32,\n",
        "                    validation_split=0.2,\n",
        "                    shuffle=True)\n",
        "    "
      ],
      "execution_count": 28,
      "outputs": [
        {
          "output_type": "stream",
          "text": [
            "Epoch 1/30\n",
            "40/40 [==============================] - 0s 10ms/step - loss: 0.6830 - accuracy: 0.5907 - val_loss: 0.9506 - val_accuracy: 0.0000e+00\n",
            "Epoch 2/30\n",
            "40/40 [==============================] - 0s 8ms/step - loss: 0.6623 - accuracy: 0.6269 - val_loss: 0.9197 - val_accuracy: 0.0000e+00\n",
            "Epoch 3/30\n",
            "40/40 [==============================] - 0s 7ms/step - loss: 0.6046 - accuracy: 0.6402 - val_loss: 0.9511 - val_accuracy: 0.1787\n",
            "Epoch 4/30\n",
            "40/40 [==============================] - 0s 7ms/step - loss: 0.4353 - accuracy: 0.8083 - val_loss: 0.8000 - val_accuracy: 0.6803\n",
            "Epoch 5/30\n",
            "40/40 [==============================] - 0s 7ms/step - loss: 0.2193 - accuracy: 0.9262 - val_loss: 1.3872 - val_accuracy: 0.5266\n",
            "Epoch 6/30\n",
            "40/40 [==============================] - 0s 8ms/step - loss: 0.1217 - accuracy: 0.9599 - val_loss: 1.1803 - val_accuracy: 0.6489\n",
            "Epoch 7/30\n",
            "40/40 [==============================] - 0s 7ms/step - loss: 0.0633 - accuracy: 0.9835 - val_loss: 1.4161 - val_accuracy: 0.6176\n",
            "Epoch 8/30\n",
            "40/40 [==============================] - 0s 8ms/step - loss: 0.0533 - accuracy: 0.9843 - val_loss: 1.6089 - val_accuracy: 0.6238\n",
            "Epoch 9/30\n",
            "40/40 [==============================] - 0s 7ms/step - loss: 0.0378 - accuracy: 0.9874 - val_loss: 1.5295 - val_accuracy: 0.6771\n",
            "Epoch 10/30\n",
            "40/40 [==============================] - 0s 7ms/step - loss: 0.0275 - accuracy: 0.9906 - val_loss: 1.8611 - val_accuracy: 0.6458\n",
            "Epoch 11/30\n",
            "40/40 [==============================] - 0s 7ms/step - loss: 0.0296 - accuracy: 0.9898 - val_loss: 1.7777 - val_accuracy: 0.6614\n",
            "Epoch 12/30\n",
            "40/40 [==============================] - 0s 8ms/step - loss: 0.0224 - accuracy: 0.9937 - val_loss: 1.8487 - val_accuracy: 0.6489\n",
            "Epoch 13/30\n",
            "40/40 [==============================] - 0s 7ms/step - loss: 0.0233 - accuracy: 0.9898 - val_loss: 2.0973 - val_accuracy: 0.6395\n",
            "Epoch 14/30\n",
            "40/40 [==============================] - 0s 7ms/step - loss: 0.0205 - accuracy: 0.9921 - val_loss: 2.3270 - val_accuracy: 0.6144\n",
            "Epoch 15/30\n",
            "40/40 [==============================] - 0s 8ms/step - loss: 0.0256 - accuracy: 0.9898 - val_loss: 2.7202 - val_accuracy: 0.5831\n",
            "Epoch 16/30\n",
            "40/40 [==============================] - 0s 7ms/step - loss: 0.0208 - accuracy: 0.9929 - val_loss: 2.2230 - val_accuracy: 0.6395\n",
            "Epoch 17/30\n",
            "40/40 [==============================] - 0s 7ms/step - loss: 0.0175 - accuracy: 0.9937 - val_loss: 2.3940 - val_accuracy: 0.6395\n",
            "Epoch 18/30\n",
            "40/40 [==============================] - 0s 8ms/step - loss: 0.0173 - accuracy: 0.9929 - val_loss: 2.7431 - val_accuracy: 0.6176\n",
            "Epoch 19/30\n",
            "40/40 [==============================] - 0s 8ms/step - loss: 0.0156 - accuracy: 0.9929 - val_loss: 2.7232 - val_accuracy: 0.6395\n",
            "Epoch 20/30\n",
            "40/40 [==============================] - 0s 7ms/step - loss: 0.0164 - accuracy: 0.9937 - val_loss: 2.7281 - val_accuracy: 0.6364\n",
            "Epoch 21/30\n",
            "40/40 [==============================] - 0s 7ms/step - loss: 0.0165 - accuracy: 0.9937 - val_loss: 2.4290 - val_accuracy: 0.6489\n",
            "Epoch 22/30\n",
            "40/40 [==============================] - 0s 7ms/step - loss: 0.0199 - accuracy: 0.9914 - val_loss: 2.2260 - val_accuracy: 0.6897\n",
            "Epoch 23/30\n",
            "40/40 [==============================] - 0s 7ms/step - loss: 0.0158 - accuracy: 0.9921 - val_loss: 2.7636 - val_accuracy: 0.6270\n",
            "Epoch 24/30\n",
            "40/40 [==============================] - 0s 7ms/step - loss: 0.0118 - accuracy: 0.9969 - val_loss: 2.2122 - val_accuracy: 0.6959\n",
            "Epoch 25/30\n",
            "40/40 [==============================] - 0s 7ms/step - loss: 0.0207 - accuracy: 0.9898 - val_loss: 2.4944 - val_accuracy: 0.6708\n",
            "Epoch 26/30\n",
            "40/40 [==============================] - 0s 8ms/step - loss: 0.0130 - accuracy: 0.9961 - val_loss: 2.6207 - val_accuracy: 0.6458\n",
            "Epoch 27/30\n",
            "40/40 [==============================] - 0s 7ms/step - loss: 0.0150 - accuracy: 0.9937 - val_loss: 2.9383 - val_accuracy: 0.6238\n",
            "Epoch 28/30\n",
            "40/40 [==============================] - 0s 8ms/step - loss: 0.0216 - accuracy: 0.9921 - val_loss: 2.4713 - val_accuracy: 0.6677\n",
            "Epoch 29/30\n",
            "40/40 [==============================] - 0s 8ms/step - loss: 0.0150 - accuracy: 0.9921 - val_loss: 3.2730 - val_accuracy: 0.5799\n",
            "Epoch 30/30\n",
            "40/40 [==============================] - 0s 7ms/step - loss: 0.0124 - accuracy: 0.9937 - val_loss: 2.9649 - val_accuracy: 0.6364\n"
          ],
          "name": "stdout"
        }
      ]
    },
    {
      "cell_type": "markdown",
      "metadata": {
        "id": "DyLWRjKV0VMb",
        "colab_type": "text"
      },
      "source": [
        "Now, we can plot accuracy and loss"
      ]
    },
    {
      "cell_type": "code",
      "metadata": {
        "id": "c23FSSifCRTN",
        "colab_type": "code",
        "colab": {
          "base_uri": "https://localhost:8080/",
          "height": 541
        },
        "outputId": "359395ea-930a-48f1-ff3e-ef1d8386f460"
      },
      "source": [
        "def plots(history, string):\n",
        "  plt.plot(history.history[string])\n",
        "  plt.plot(history.history['val_'+string])\n",
        "  plt.xlabel(\"Epochs\")\n",
        "  plt.ylabel(string)\n",
        "  plt.legend([string, 'val_'+string])\n",
        "  plt.show()\n",
        "  \n",
        "plots(history, \"accuracy\")\n",
        "plots(history, \"loss\")"
      ],
      "execution_count": 29,
      "outputs": [
        {
          "output_type": "display_data",
          "data": {
            "image/png": "[encoded data removed]",
            "text/plain": [
              "<Figure size 432x288 with 1 Axes>"
            ]
          },
          "metadata": {
            "tags": [],
            "needs_background": "light"
          }
        },
        {
          "output_type": "display_data",
          "data": {
            "image/png": "[encoded data removed]",
            "text/plain": [
              "<Figure size 432x288 with 1 Axes>"
            ]
          },
          "metadata": {
            "tags": [],
            "needs_background": "light"
          }
        }
      ]
    },
    {
      "cell_type": "code",
      "metadata": {
        "id": "KFvyoPS3Gjju",
        "colab_type": "code",
        "colab": {
          "base_uri": "https://localhost:8080/",
          "height": 51
        },
        "outputId": "f710ad97-c299-48ce-a423-2ea4a0bf06c8"
      },
      "source": [
        "accuracy = model.evaluate(X_test_padded, y_test)[1]\n",
        "print('Model accuracy is {:.2f}%'.format(accuracy*100))"
      ],
      "execution_count": 30,
      "outputs": [
        {
          "output_type": "stream",
          "text": [
            "13/13 [==============================] - 0s 3ms/step - loss: 1.8175 - accuracy: 0.7525\n",
            "Model accuracy is 75.25%\n"
          ],
          "name": "stdout"
        }
      ]
    },
    {
      "cell_type": "markdown",
      "metadata": {
        "id": "haw5Ad-DKoYx",
        "colab_type": "text"
      },
      "source": [
        "## Teak the model\n",
        "Use a GlobalAveragePooling1D layer instead of a Flatten layer."
      ]
    },
    {
      "cell_type": "code",
      "metadata": {
        "id": "jCWW-azVKskq",
        "colab_type": "code",
        "colab": {
          "base_uri": "https://localhost:8080/",
          "height": 1000
        },
        "outputId": "221b2c03-c65c-4a7f-99bc-9dbf93ec8476"
      },
      "source": [
        "model = tf.keras.Sequential([\n",
        "    tf.keras.layers.Embedding(vocab_size, embedding_dim, input_length=max_length),\n",
        "    tf.keras.layers.GlobalAveragePooling1D(),\n",
        "    tf.keras.layers.Dense(256, activation='relu'),\n",
        "    tf.keras.layers.Dense(100, activation='relu'),\n",
        "    tf.keras.layers.Dense(1, activation='sigmoid')\n",
        "])\n",
        "model.compile(loss='binary_crossentropy',optimizer='adam',metrics=['accuracy'])\n",
        "\n",
        "# train the model\n",
        "num_epochs = 30\n",
        "history = model.fit(padded, \n",
        "                    y_train, \n",
        "                    epochs=num_epochs,\n",
        "                    batch_size=32,\n",
        "                    validation_split=0.2,\n",
        "                    shuffle=True)\n",
        "    "
      ],
      "execution_count": 31,
      "outputs": [
        {
          "output_type": "stream",
          "text": [
            "Epoch 1/30\n",
            "40/40 [==============================] - 0s 10ms/step - loss: 0.6654 - accuracy: 0.6182 - val_loss: 1.0233 - val_accuracy: 0.0000e+00\n",
            "Epoch 2/30\n",
            "40/40 [==============================] - 0s 7ms/step - loss: 0.6603 - accuracy: 0.6253 - val_loss: 0.9850 - val_accuracy: 0.0000e+00\n",
            "Epoch 3/30\n",
            "40/40 [==============================] - 0s 7ms/step - loss: 0.6304 - accuracy: 0.6308 - val_loss: 0.7507 - val_accuracy: 0.4326\n",
            "Epoch 4/30\n",
            "40/40 [==============================] - 0s 8ms/step - loss: 0.5295 - accuracy: 0.7675 - val_loss: 0.6074 - val_accuracy: 0.7649\n",
            "Epoch 5/30\n",
            "40/40 [==============================] - 0s 7ms/step - loss: 0.3605 - accuracy: 0.8641 - val_loss: 0.8062 - val_accuracy: 0.6458\n",
            "Epoch 6/30\n",
            "40/40 [==============================] - 0s 7ms/step - loss: 0.2714 - accuracy: 0.8987 - val_loss: 0.8899 - val_accuracy: 0.6458\n",
            "Epoch 7/30\n",
            "40/40 [==============================] - 0s 8ms/step - loss: 0.2368 - accuracy: 0.8995 - val_loss: 1.2077 - val_accuracy: 0.5831\n",
            "Epoch 8/30\n",
            "40/40 [==============================] - 0s 7ms/step - loss: 0.2100 - accuracy: 0.9199 - val_loss: 0.8481 - val_accuracy: 0.7085\n",
            "Epoch 9/30\n",
            "40/40 [==============================] - 0s 8ms/step - loss: 0.1858 - accuracy: 0.9269 - val_loss: 0.6422 - val_accuracy: 0.8245\n",
            "Epoch 10/30\n",
            "40/40 [==============================] - 0s 8ms/step - loss: 0.1936 - accuracy: 0.9191 - val_loss: 1.4619 - val_accuracy: 0.5643\n",
            "Epoch 11/30\n",
            "40/40 [==============================] - 0s 7ms/step - loss: 0.1862 - accuracy: 0.9214 - val_loss: 1.3933 - val_accuracy: 0.5925\n",
            "Epoch 12/30\n",
            "40/40 [==============================] - 0s 7ms/step - loss: 0.1585 - accuracy: 0.9427 - val_loss: 0.9524 - val_accuracy: 0.7147\n",
            "Epoch 13/30\n",
            "40/40 [==============================] - 0s 7ms/step - loss: 0.1561 - accuracy: 0.9379 - val_loss: 1.4100 - val_accuracy: 0.6144\n",
            "Epoch 14/30\n",
            "40/40 [==============================] - 0s 8ms/step - loss: 0.1514 - accuracy: 0.9427 - val_loss: 1.3072 - val_accuracy: 0.6458\n",
            "Epoch 15/30\n",
            "40/40 [==============================] - 0s 8ms/step - loss: 0.1401 - accuracy: 0.9434 - val_loss: 1.2225 - val_accuracy: 0.6865\n",
            "Epoch 16/30\n",
            "40/40 [==============================] - 0s 7ms/step - loss: 0.1334 - accuracy: 0.9513 - val_loss: 1.2467 - val_accuracy: 0.6928\n",
            "Epoch 17/30\n",
            "40/40 [==============================] - 0s 7ms/step - loss: 0.1663 - accuracy: 0.9309 - val_loss: 0.9811 - val_accuracy: 0.7555\n",
            "Epoch 18/30\n",
            "40/40 [==============================] - 0s 7ms/step - loss: 0.1249 - accuracy: 0.9552 - val_loss: 1.2955 - val_accuracy: 0.6677\n",
            "Epoch 19/30\n",
            "40/40 [==============================] - 0s 7ms/step - loss: 0.1172 - accuracy: 0.9584 - val_loss: 1.3046 - val_accuracy: 0.6865\n",
            "Epoch 20/30\n",
            "40/40 [==============================] - 0s 7ms/step - loss: 0.1116 - accuracy: 0.9639 - val_loss: 1.5272 - val_accuracy: 0.6583\n",
            "Epoch 21/30\n",
            "40/40 [==============================] - 0s 7ms/step - loss: 0.1209 - accuracy: 0.9568 - val_loss: 1.0777 - val_accuracy: 0.7868\n",
            "Epoch 22/30\n",
            "40/40 [==============================] - 0s 7ms/step - loss: 0.1394 - accuracy: 0.9489 - val_loss: 1.5723 - val_accuracy: 0.6489\n",
            "Epoch 23/30\n",
            "40/40 [==============================] - 0s 7ms/step - loss: 0.1145 - accuracy: 0.9615 - val_loss: 1.4224 - val_accuracy: 0.6959\n",
            "Epoch 24/30\n",
            "40/40 [==============================] - 0s 7ms/step - loss: 0.1010 - accuracy: 0.9686 - val_loss: 1.6360 - val_accuracy: 0.6614\n",
            "Epoch 25/30\n",
            "40/40 [==============================] - 0s 6ms/step - loss: 0.1148 - accuracy: 0.9576 - val_loss: 1.3816 - val_accuracy: 0.7116\n",
            "Epoch 26/30\n",
            "40/40 [==============================] - 0s 6ms/step - loss: 0.1035 - accuracy: 0.9678 - val_loss: 1.7572 - val_accuracy: 0.6426\n",
            "Epoch 27/30\n",
            "40/40 [==============================] - 0s 7ms/step - loss: 0.1034 - accuracy: 0.9647 - val_loss: 1.5502 - val_accuracy: 0.6897\n",
            "Epoch 28/30\n",
            "40/40 [==============================] - 0s 7ms/step - loss: 0.1065 - accuracy: 0.9615 - val_loss: 1.4856 - val_accuracy: 0.7085\n",
            "Epoch 29/30\n",
            "40/40 [==============================] - 0s 7ms/step - loss: 0.1096 - accuracy: 0.9647 - val_loss: 1.8511 - val_accuracy: 0.6332\n",
            "Epoch 30/30\n",
            "40/40 [==============================] - 0s 7ms/step - loss: 0.0930 - accuracy: 0.9741 - val_loss: 1.5588 - val_accuracy: 0.6865\n"
          ],
          "name": "stdout"
        }
      ]
    },
    {
      "cell_type": "code",
      "metadata": {
        "id": "m3x7cKXUKsnp",
        "colab_type": "code",
        "colab": {
          "base_uri": "https://localhost:8080/",
          "height": 541
        },
        "outputId": "fdb7926f-a81d-43f3-ab67-54af8124773d"
      },
      "source": [
        "plots(history, \"accuracy\")\n",
        "plots(history, \"loss\")"
      ],
      "execution_count": 32,
      "outputs": [
        {
          "output_type": "display_data",
          "data": {
            "image/png": "[encoded data removed]",
            "text/plain": [
              "<Figure size 432x288 with 1 Axes>"
            ]
          },
          "metadata": {
            "tags": [],
            "needs_background": "light"
          }
        },
        {
          "output_type": "display_data",
          "data": {
            "image/png": "[encoded data removed]",
            "text/plain": [
              "<Figure size 432x288 with 1 Axes>"
            ]
          },
          "metadata": {
            "tags": [],
            "needs_background": "light"
          }
        }
      ]
    },
    {
      "cell_type": "code",
      "metadata": {
        "id": "uVmJCQdJKsqx",
        "colab_type": "code",
        "colab": {
          "base_uri": "https://localhost:8080/",
          "height": 51
        },
        "outputId": "9a763de9-bf85-48ff-c16d-7fb615458bdd"
      },
      "source": [
        "accuracy = model.evaluate(X_test_padded, y_test)[1]\n",
        "print('Model accuracy is {:.2f}%'.format(accuracy*100))"
      ],
      "execution_count": 33,
      "outputs": [
        {
          "output_type": "stream",
          "text": [
            "13/13 [==============================] - 0s 3ms/step - loss: 0.8918 - accuracy: 0.7850\n",
            "Model accuracy is 78.50%\n"
          ],
          "name": "stdout"
        }
      ]
    }
  ]
}