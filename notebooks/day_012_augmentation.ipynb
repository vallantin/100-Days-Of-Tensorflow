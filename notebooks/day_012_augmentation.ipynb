{
  "nbformat": 4,
  "nbformat_minor": 0,
  "metadata": {
    "colab": {
      "name": "day_012_augmentation.ipynb",
      "provenance": [],
      "collapsed_sections": [],
      "toc_visible": true
    },
    "kernelspec": {
      "name": "python3",
      "display_name": "Python 3"
    },
    "accelerator": "GPU"
  },
  "cells": [
    {
      "cell_type": "markdown",
      "metadata": {
        "id": "KPaKefElDJjw",
        "colab_type": "text"
      },
      "source": [
        "# Data Augmentation"
      ]
    },
    {
      "cell_type": "code",
      "metadata": {
        "id": "BEBGClIVSgtr",
        "colab_type": "code",
        "colab": {
          "base_uri": "https://localhost:8080/",
          "height": 394
        },
        "outputId": "a680fa85-dc8c-455c-f216-dcc288c5d119"
      },
      "source": [
        "# imports\n",
        "import tensorflow as tf\n",
        "from tensorflow.keras.preprocessing.text import Tokenizer\n",
        "from tensorflow.keras.preprocessing.sequence import pad_sequences\n",
        "import matplotlib.pyplot as plt\n",
        "import tensorflow_datasets as tfds\n",
        "\n",
        "import numpy as np\n",
        "import pandas as pd\n",
        "\n",
        "# get data\n",
        "!wget --no-check-certificate \\\n",
        "    -O /tmp/sentiment.csv https://drive.google.com/uc?id=13ySLC_ue6Umt9RJYSeM2t-V0kCv-4C-P\n",
        "\n",
        "# define get_data function\n",
        "def get_data(path):\n",
        "  data = pd.read_csv(path, index_col=0)\n",
        "  return data\n",
        "\n",
        "#get the data\n",
        "data = get_data('/tmp/sentiment.csv')\n",
        "\n",
        "# clone package repository\n",
        "!git clone https://github.com/vallantin/atalaia.git\n",
        "\n",
        "# navigate to atalaia directory\n",
        "%cd atalaia\n",
        "\n",
        "# install packages requirements\n",
        "!pip install -r requirements.txt\n",
        "\n",
        "# install package\n",
        "!python setup.py install\n",
        "\n",
        "# import it\n",
        "from atalaia.atalaia import Atalaia"
      ],
      "execution_count": 10,
      "outputs": [
        {
          "output_type": "stream",
          "text": [
            "--2020-07-08 07:52:54--  https://drive.google.com/uc?id=13ySLC_ue6Umt9RJYSeM2t-V0kCv-4C-P\n",
            "Resolving drive.google.com (drive.google.com)... 173.194.197.101, 173.194.197.102, 173.194.197.139, ...\n",
            "Connecting to drive.google.com (drive.google.com)|173.194.197.101|:443... connected.\n",
            "HTTP request sent, awaiting response... 302 Moved Temporarily\n",
            "Location: https://doc-08-ak-docs.googleusercontent.com/docs/securesc/ha0ro937gcuc7l7deffksulhg5h7mbp1/p8030o4oecsm7hg1mg8doqjggak81hdo/1594194750000/11118900490791463723/*/13ySLC_ue6Umt9RJYSeM2t-V0kCv-4C-P [following]\n",
            "Warning: wildcards not supported in HTTP.\n",
            "--2020-07-08 07:52:55--  https://doc-08-ak-docs.googleusercontent.com/docs/securesc/ha0ro937gcuc7l7deffksulhg5h7mbp1/p8030o4oecsm7hg1mg8doqjggak81hdo/1594194750000/11118900490791463723/*/13ySLC_ue6Umt9RJYSeM2t-V0kCv-4C-P\n",
            "Resolving doc-08-ak-docs.googleusercontent.com (doc-08-ak-docs.googleusercontent.com)... 172.217.212.132, 2607:f8b0:4001:c03::84\n",
            "Connecting to doc-08-ak-docs.googleusercontent.com (doc-08-ak-docs.googleusercontent.com)|172.217.212.132|:443... connected.\n",
            "HTTP request sent, awaiting response... 200 OK\n",
            "Length: 127831 (125K) [text/csv]\n",
            "Saving to: ‘/tmp/sentiment.csv’\n",
            "\n",
            "/tmp/sentiment.csv  100%[===================>] 124.83K  --.-KB/s    in 0.002s  \n",
            "\n",
            "2020-07-08 07:52:55 (77.8 MB/s) - ‘/tmp/sentiment.csv’ saved [127831/127831]\n",
            "\n",
            "fatal: destination path 'atalaia' already exists and is not an empty directory.\n",
            "/content/atalaia/atalaia\n",
            "\u001b[31mERROR: Could not open requirements file: [Errno 2] No such file or directory: 'requirements.txt'\u001b[0m\n",
            "python3: can't open file 'setup.py': [Errno 2] No such file or directory\n"
          ],
          "name": "stdout"
        }
      ]
    },
    {
      "cell_type": "markdown",
      "metadata": {
        "id": "KqLSzGKtXXvA",
        "colab_type": "text"
      },
      "source": [
        "Preprocess data."
      ]
    },
    {
      "cell_type": "code",
      "metadata": {
        "id": "7nlJ8Kp8XWJ1",
        "colab_type": "code",
        "colab": {}
      },
      "source": [
        "#def pre-process function\n",
        "def preprocess(panda_series):\n",
        "  atalaia = Atalaia('en')\n",
        "\n",
        "  # lower case everyting and remove double spaces\n",
        "  panda_series = [atalaia.lower_remove_white(t) for t in panda_series]\n",
        "\n",
        "  # expand contractions\n",
        "  panda_series = [atalaia.expand_contractions(t) for t in panda_series]\n",
        "\n",
        "  # remove punctuation\n",
        "  panda_series = [atalaia.remove_punctuation(t) for t in panda_series]\n",
        "\n",
        "  # remove numbers\n",
        "  panda_series = [atalaia.remove_numbers(t) for t in panda_series]\n",
        "\n",
        "  # remove stopwords\n",
        "  panda_series = [atalaia.remove_stopwords(t) for t in panda_series]\n",
        "\n",
        "  # remove excessive spaces\n",
        "  panda_series = [atalaia.remove_excessive_spaces(t) for t in panda_series]\n",
        "\n",
        "  return panda_series\n",
        "\n",
        "# preprocess it\n",
        "preprocessed_text = preprocess(data.text)"
      ],
      "execution_count": 11,
      "outputs": []
    },
    {
      "cell_type": "markdown",
      "metadata": {
        "id": "x2uXo9GjMrRO",
        "colab_type": "text"
      },
      "source": [
        "Replace tokenizer with subwords tokenizer"
      ]
    },
    {
      "cell_type": "code",
      "metadata": {
        "id": "TgxTwo8GNL54",
        "colab_type": "code",
        "colab": {}
      },
      "source": [
        "# get a smaller vocab size\n",
        "vocab_size = 1000\n",
        "\n",
        "# define the maximum size of a subword\n",
        "sub_length = 5\n",
        "\n",
        "# out of vocabulary replacement\n",
        "oov_tok = \"<OOV>\"\n",
        "import tensorflow_datasets as tfds\n",
        "\n",
        "# start tokenize\n",
        "tokenizer = Tokenizer(num_words=vocab_size, \n",
        "                      oov_token=oov_tok)\n",
        "\n",
        "tokenizer = tfds.features.text.SubwordTextEncoder.build_from_corpus(preprocessed_text, \n",
        "                                                                    vocab_size, \n",
        "                                                                    max_subword_length=sub_length)\n",
        "\n",
        "# encode the whole dataset\n",
        "encoded_texts = [tokenizer.encode(sentence) for sentence in preprocessed_text]"
      ],
      "execution_count": 12,
      "outputs": []
    },
    {
      "cell_type": "markdown",
      "metadata": {
        "id": "rr_aR-XNUuMV",
        "colab_type": "text"
      },
      "source": [
        "Visualize what's happening:"
      ]
    },
    {
      "cell_type": "code",
      "metadata": {
        "id": "0y3AKWOfTb_P",
        "colab_type": "code",
        "colab": {
          "base_uri": "https://localhost:8080/",
          "height": 35
        },
        "outputId": "8cba6ded-43ab-4aa8-ff2c-aab41b4efb03"
      },
      "source": [
        "# get the first encoded sentence to see what this tokenizer does\n",
        "view = [tokenizer.decode([i]) for i in encoded_texts[0]]\n",
        "view = ' '.join(view)\n",
        "view"
      ],
      "execution_count": 13,
      "outputs": [
        {
          "output_type": "execute_result",
          "data": {
            "application/vnd.google.colaboratory.intrinsic": {
              "type": "string"
            },
            "text/plain": [
              "'so  there   is  no  way  for  me  plug   it  in  here  in  us  un less  i  go  by  con ver ter'"
            ]
          },
          "metadata": {
            "tags": []
          },
          "execution_count": 13
        }
      ]
    },
    {
      "cell_type": "markdown",
      "metadata": {
        "id": "MkBqAWuxTK6B",
        "colab_type": "text"
      },
      "source": [
        "Let's pad everything and split into test and train. To keep things simple, we won't try to balance the dataset."
      ]
    },
    {
      "cell_type": "code",
      "metadata": {
        "id": "fEnmFVfVSeXp",
        "colab_type": "code",
        "colab": {}
      },
      "source": [
        "# pad sequences and split into test and train\n",
        "max_length = 100\n",
        "trunc_type='post'\n",
        "padding_type='post'\n",
        "\n",
        "# Pad all sentences\n",
        "sentences_padded = pad_sequences(encoded_texts, \n",
        "                                 maxlen=max_length, \n",
        "                                 padding=padding_type, \n",
        "                                 truncating=trunc_type)\n",
        "\n",
        "# get the labels\n",
        "labels  = data.sentiment\n",
        "\n",
        "# Separate out the sentences and labels into training and test sets\n",
        "size    = int(len(data.text) * 0.8)\n",
        "\n",
        "X_train = sentences_padded[0:size]\n",
        "X_test  = sentences_padded[size:]\n",
        "y_train = labels[0:size]\n",
        "y_test  = labels[size:]\n",
        "\n",
        "# Convert labels to Numpy arrays\n",
        "y_train = np.array(y_train)\n",
        "y_test = np.array(y_test)\n"
      ],
      "execution_count": 14,
      "outputs": []
    },
    {
      "cell_type": "markdown",
      "metadata": {
        "id": "6WPMN2N6Db1w",
        "colab_type": "text"
      },
      "source": [
        "Finally, let's get a smaller dimensional space and compile the model. "
      ]
    },
    {
      "cell_type": "code",
      "metadata": {
        "id": "sk0fxlBMDijx",
        "colab_type": "code",
        "colab": {
          "base_uri": "https://localhost:8080/",
          "height": 289
        },
        "outputId": "cb4b8976-f630-42cd-b08b-a8a0a7a762dd"
      },
      "source": [
        "# Build network\n",
        "embedding_dim = 16\n",
        "\n",
        "model = tf.keras.Sequential([\n",
        "    tf.keras.layers.Embedding(vocab_size, embedding_dim, input_length=max_length),\n",
        "    tf.keras.layers.GlobalAveragePooling1D(),\n",
        "    tf.keras.layers.Dense(6, activation='relu'),\n",
        "    tf.keras.layers.Dense(1, activation='sigmoid')\n",
        "])\n",
        "\n",
        "model.compile(loss='binary_crossentropy',optimizer='adam',metrics=['accuracy'])\n",
        "model.summary()"
      ],
      "execution_count": 24,
      "outputs": [
        {
          "output_type": "stream",
          "text": [
            "Model: \"sequential_3\"\n",
            "_________________________________________________________________\n",
            "Layer (type)                 Output Shape              Param #   \n",
            "=================================================================\n",
            "embedding_3 (Embedding)      (None, 100, 16)           16000     \n",
            "_________________________________________________________________\n",
            "global_average_pooling1d_3 ( (None, 16)                0         \n",
            "_________________________________________________________________\n",
            "dense_6 (Dense)              (None, 6)                 102       \n",
            "_________________________________________________________________\n",
            "dense_7 (Dense)              (None, 1)                 7         \n",
            "=================================================================\n",
            "Total params: 16,109\n",
            "Trainable params: 16,109\n",
            "Non-trainable params: 0\n",
            "_________________________________________________________________\n"
          ],
          "name": "stdout"
        }
      ]
    },
    {
      "cell_type": "code",
      "metadata": {
        "id": "lopk15EyCGCL",
        "colab_type": "code",
        "colab": {
          "base_uri": "https://localhost:8080/",
          "height": 819
        },
        "outputId": "00ca5fc7-c804-4e89-eef0-8de05690f846"
      },
      "source": [
        "# train the model\n",
        "num_epochs = 23\n",
        "history = model.fit(X_train, \n",
        "                    y_train, \n",
        "                    epochs=num_epochs,\n",
        "                    validation_data=(X_test, y_test))\n",
        "    \n"
      ],
      "execution_count": 25,
      "outputs": [
        {
          "output_type": "stream",
          "text": [
            "Epoch 1/23\n",
            "50/50 [==============================] - 0s 8ms/step - loss: 0.6931 - accuracy: 0.5122 - val_loss: 0.6942 - val_accuracy: 0.4110\n",
            "Epoch 2/23\n",
            "50/50 [==============================] - 0s 6ms/step - loss: 0.6928 - accuracy: 0.5223 - val_loss: 0.6951 - val_accuracy: 0.4110\n",
            "Epoch 3/23\n",
            "50/50 [==============================] - 0s 6ms/step - loss: 0.6926 - accuracy: 0.5223 - val_loss: 0.6961 - val_accuracy: 0.4110\n",
            "Epoch 4/23\n",
            "50/50 [==============================] - 0s 7ms/step - loss: 0.6925 - accuracy: 0.5223 - val_loss: 0.6970 - val_accuracy: 0.4110\n",
            "Epoch 5/23\n",
            "50/50 [==============================] - 0s 6ms/step - loss: 0.6924 - accuracy: 0.5223 - val_loss: 0.6976 - val_accuracy: 0.4110\n",
            "Epoch 6/23\n",
            "50/50 [==============================] - 0s 6ms/step - loss: 0.6922 - accuracy: 0.5348 - val_loss: 0.6934 - val_accuracy: 0.4311\n",
            "Epoch 7/23\n",
            "50/50 [==============================] - 0s 7ms/step - loss: 0.6905 - accuracy: 0.5311 - val_loss: 0.6898 - val_accuracy: 0.6642\n",
            "Epoch 8/23\n",
            "50/50 [==============================] - 0s 6ms/step - loss: 0.6857 - accuracy: 0.6221 - val_loss: 0.6878 - val_accuracy: 0.5739\n",
            "Epoch 9/23\n",
            "50/50 [==============================] - 0s 6ms/step - loss: 0.6774 - accuracy: 0.7483 - val_loss: 0.6751 - val_accuracy: 0.7318\n",
            "Epoch 10/23\n",
            "50/50 [==============================] - 0s 7ms/step - loss: 0.6657 - accuracy: 0.7947 - val_loss: 0.6635 - val_accuracy: 0.7318\n",
            "Epoch 11/23\n",
            "50/50 [==============================] - 0s 7ms/step - loss: 0.6508 - accuracy: 0.7841 - val_loss: 0.6533 - val_accuracy: 0.7469\n",
            "Epoch 12/23\n",
            "50/50 [==============================] - 0s 6ms/step - loss: 0.6327 - accuracy: 0.7884 - val_loss: 0.6353 - val_accuracy: 0.7494\n",
            "Epoch 13/23\n",
            "50/50 [==============================] - 0s 6ms/step - loss: 0.6131 - accuracy: 0.8104 - val_loss: 0.6129 - val_accuracy: 0.6992\n",
            "Epoch 14/23\n",
            "50/50 [==============================] - 0s 6ms/step - loss: 0.5925 - accuracy: 0.8261 - val_loss: 0.6023 - val_accuracy: 0.7594\n",
            "Epoch 15/23\n",
            "50/50 [==============================] - 0s 6ms/step - loss: 0.5705 - accuracy: 0.8311 - val_loss: 0.5945 - val_accuracy: 0.7769\n",
            "Epoch 16/23\n",
            "50/50 [==============================] - 1s 10ms/step - loss: 0.5513 - accuracy: 0.8343 - val_loss: 0.5787 - val_accuracy: 0.7870\n",
            "Epoch 17/23\n",
            "50/50 [==============================] - 0s 6ms/step - loss: 0.5290 - accuracy: 0.8569 - val_loss: 0.5646 - val_accuracy: 0.7845\n",
            "Epoch 18/23\n",
            "50/50 [==============================] - 0s 6ms/step - loss: 0.5092 - accuracy: 0.8713 - val_loss: 0.5516 - val_accuracy: 0.7644\n",
            "Epoch 19/23\n",
            "50/50 [==============================] - 0s 6ms/step - loss: 0.4907 - accuracy: 0.8738 - val_loss: 0.5494 - val_accuracy: 0.7845\n",
            "Epoch 20/23\n",
            "50/50 [==============================] - 0s 6ms/step - loss: 0.4735 - accuracy: 0.8820 - val_loss: 0.5384 - val_accuracy: 0.7845\n",
            "Epoch 21/23\n",
            "50/50 [==============================] - 0s 6ms/step - loss: 0.4566 - accuracy: 0.8889 - val_loss: 0.5318 - val_accuracy: 0.7920\n",
            "Epoch 22/23\n",
            "50/50 [==============================] - 0s 7ms/step - loss: 0.4403 - accuracy: 0.8970 - val_loss: 0.5255 - val_accuracy: 0.7820\n",
            "Epoch 23/23\n",
            "50/50 [==============================] - 0s 7ms/step - loss: 0.4257 - accuracy: 0.9014 - val_loss: 0.5193 - val_accuracy: 0.7845\n"
          ],
          "name": "stdout"
        }
      ]
    },
    {
      "cell_type": "markdown",
      "metadata": {
        "id": "DyLWRjKV0VMb",
        "colab_type": "text"
      },
      "source": [
        "Now, we can plot accuracy and loss"
      ]
    },
    {
      "cell_type": "code",
      "metadata": {
        "id": "c23FSSifCRTN",
        "colab_type": "code",
        "colab": {
          "base_uri": "https://localhost:8080/",
          "height": 541
        },
        "outputId": "7f99563b-2dcc-451e-d376-4f1cd4b6b072"
      },
      "source": [
        "def plots(history, string):\n",
        "  plt.plot(history.history[string])\n",
        "  plt.plot(history.history['val_'+string])\n",
        "  plt.xlabel(\"Epochs\")\n",
        "  plt.ylabel(string)\n",
        "  plt.legend([string, 'val_'+string])\n",
        "  plt.show()\n",
        "  \n",
        "plots(history, \"accuracy\")\n",
        "plots(history, \"loss\")"
      ],
      "execution_count": 26,
      "outputs": [
        {
          "output_type": "display_data",
          "data": {
            "image/png": "[encoded data removed]",
            "text/plain": [
              "<Figure size 432x288 with 1 Axes>"
            ]
          },
          "metadata": {
            "tags": [],
            "needs_background": "light"
          }
        },
        {
          "output_type": "display_data",
          "data": {
            "image/png": "[encoded data removed]",
            "text/plain": [
              "<Figure size 432x288 with 1 Axes>"
            ]
          },
          "metadata": {
            "tags": [],
            "needs_background": "light"
          }
        }
      ]
    },
    {
      "cell_type": "code",
      "metadata": {
        "id": "KFvyoPS3Gjju",
        "colab_type": "code",
        "colab": {
          "base_uri": "https://localhost:8080/",
          "height": 51
        },
        "outputId": "621f309e-75f2-46e3-d64d-65a694b61484"
      },
      "source": [
        "accuracy = model.evaluate(X_test, y_test)[1]\n",
        "print('Model accuracy is {:.2f}%'.format(accuracy*100))"
      ],
      "execution_count": 27,
      "outputs": [
        {
          "output_type": "stream",
          "text": [
            "13/13 [==============================] - 0s 2ms/step - loss: 0.5193 - accuracy: 0.7845\n",
            "Model accuracy is 78.45%\n"
          ],
          "name": "stdout"
        }
      ]
    }
  ]
}