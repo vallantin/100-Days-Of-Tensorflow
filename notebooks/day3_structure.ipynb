{
  "nbformat": 4,
  "nbformat_minor": 0,
  "metadata": {
    "colab": {
      "name": "day3_structure.ipynb",
      "provenance": [],
      "collapsed_sections": []
    },
    "kernelspec": {
      "name": "python3",
      "display_name": "Python 3"
    },
    "accelerator": "GPU"
  },
  "cells": [
    {
      "cell_type": "code",
      "metadata": {
        "id": "sxycIasT_XtQ",
        "colab_type": "code",
        "colab": {
          "base_uri": "https://localhost:8080/",
          "height": 51
        },
        "outputId": "5b1099da-d663-4f0e-d8cb-050313e5a1e6"
      },
      "source": [
        "# import libraries\n",
        "import tensorflow as tf\n",
        "import numpy as np\n",
        "import matplotlib.pyplot as plt\n",
        "\n",
        "# import the fashion MNIST dataset\n",
        "mnist = tf.keras.datasets.fashion_mnist\n",
        "\n",
        "# get  the train and test sets\n",
        "(train_imgs, train_labels), (test_imgs, test_labels) = mnist.load_data()\n",
        "\n",
        "# set the labels\n",
        "labels = ['Top', 'Pants', 'Pullover', 'Dress', 'Coat', 'Sandal', 'Shirt', 'Sneaker', 'Bag', 'Ankle boot']\n",
        "\n",
        "# Check shapes\n",
        "print('There are {} images on this set.'.format(train_imgs.shape[0]))\n",
        "print('The images are in the {} x {} pxs format.'.format(train_imgs.shape[1], train_imgs.shape[2]))\n"
      ],
      "execution_count": 1,
      "outputs": [
        {
          "output_type": "stream",
          "text": [
            "There are 60000 images on this set.\n",
            "The images are in the 28 x 28 pxs format.\n"
          ],
          "name": "stdout"
        }
      ]
    },
    {
      "cell_type": "code",
      "metadata": {
        "id": "younXXsbRgsC",
        "colab_type": "code",
        "colab": {}
      },
      "source": [
        "def preprocess(trainset, testset):\n",
        "  # normalize\n",
        "  trainset = trainset / 255.0\n",
        "  testset  = testset / 255.0\n",
        "  \n",
        "  # reshape dataset to single channel\n",
        "  trainset = trainset.reshape((trainset.shape[0], 28, 28, 1))\n",
        "  testset  = testset.reshape((testset.shape[0], 28, 28, 1))\n",
        "\n",
        "  return trainset, testset\n",
        "\n",
        "# normalize and reshape images\n",
        "train_imgs, test_imgs = preprocess(train_imgs, test_imgs)"
      ],
      "execution_count": 2,
      "outputs": []
    },
    {
      "cell_type": "markdown",
      "metadata": {
        "id": "iOd4qieH_9o7",
        "colab_type": "text"
      },
      "source": [
        "## Build the model"
      ]
    },
    {
      "cell_type": "code",
      "metadata": {
        "id": "RGjw-3iW_80t",
        "colab_type": "code",
        "colab": {}
      },
      "source": [
        "class MNISTModel(tf.keras.Model):\n",
        "  def __init__(self):\n",
        "    super(MNISTModel, self).__init__()\n",
        "    self.conv1   = tf.keras.layers.Conv2D(32, \n",
        "                                          kernel_size=(3,3), \n",
        "                                          input_shape=(28,28,1), \n",
        "                                          activation='relu')\n",
        "    \n",
        "    self.maxpool = tf.keras.layers.MaxPooling2D(pool_size=(2,2))\n",
        "    self.dropout = tf.keras.layers.Dropout(0.2)\n",
        "\n",
        "    self.flatten = tf.keras.layers.Flatten()\n",
        "    self.d1      = tf.keras.layers.Dense(128, activation='relu')\n",
        "    self.d2      = tf.keras.layers.Dense(10, activation='softmax')\n",
        "\n",
        "  def call(self, x):\n",
        "    x = self.conv1(x)\n",
        "    x = self.maxpool(x)\n",
        "    x = self.dropout(x)\n",
        "\n",
        "    x = self.flatten(x)\n",
        "    x = self.d1(x)\n",
        "    return self.d2(x)\n",
        "\n",
        "model = MNISTModel()"
      ],
      "execution_count": 3,
      "outputs": []
    },
    {
      "cell_type": "code",
      "metadata": {
        "id": "VqdDDrIBGtn2",
        "colab_type": "code",
        "colab": {
          "base_uri": "https://localhost:8080/",
          "height": 374
        },
        "outputId": "94120f51-4148-462f-99a7-0daa42ef3963"
      },
      "source": [
        "# compile\n",
        "model.compile(optimizer='adam',\n",
        "              loss='sparse_categorical_crossentropy',\n",
        "              metrics=['accuracy'])\n",
        "\n",
        "# fit\n",
        "model.fit(train_imgs, \n",
        "          train_labels, \n",
        "          epochs=10)"
      ],
      "execution_count": 4,
      "outputs": [
        {
          "output_type": "stream",
          "text": [
            "Epoch 1/10\n",
            "1875/1875 [==============================] - 8s 4ms/step - loss: 0.4041 - accuracy: 0.8551\n",
            "Epoch 2/10\n",
            "1875/1875 [==============================] - 8s 4ms/step - loss: 0.2800 - accuracy: 0.8996\n",
            "Epoch 3/10\n",
            "1875/1875 [==============================] - 8s 4ms/step - loss: 0.2384 - accuracy: 0.9122\n",
            "Epoch 4/10\n",
            "1875/1875 [==============================] - 8s 4ms/step - loss: 0.2096 - accuracy: 0.9215\n",
            "Epoch 5/10\n",
            "1875/1875 [==============================] - 8s 4ms/step - loss: 0.1865 - accuracy: 0.9304\n",
            "Epoch 6/10\n",
            "1875/1875 [==============================] - 8s 4ms/step - loss: 0.1669 - accuracy: 0.9366\n",
            "Epoch 7/10\n",
            "1875/1875 [==============================] - 8s 4ms/step - loss: 0.1480 - accuracy: 0.9449\n",
            "Epoch 8/10\n",
            "1875/1875 [==============================] - 8s 4ms/step - loss: 0.1347 - accuracy: 0.9506\n",
            "Epoch 9/10\n",
            "1875/1875 [==============================] - 8s 4ms/step - loss: 0.1214 - accuracy: 0.9547\n",
            "Epoch 10/10\n",
            "1875/1875 [==============================] - 8s 4ms/step - loss: 0.1096 - accuracy: 0.9590\n"
          ],
          "name": "stdout"
        },
        {
          "output_type": "execute_result",
          "data": {
            "text/plain": [
              "<tensorflow.python.keras.callbacks.History at 0x7f29b00fa780>"
            ]
          },
          "metadata": {
            "tags": []
          },
          "execution_count": 4
        }
      ]
    },
    {
      "cell_type": "code",
      "metadata": {
        "id": "osvQfihPD6hG",
        "colab_type": "code",
        "colab": {
          "base_uri": "https://localhost:8080/",
          "height": 68
        },
        "outputId": "3d6f6768-3320-4808-f331-577fd8a22ef1"
      },
      "source": [
        "test_loss, test_acc = model.evaluate(test_imgs, test_labels, verbose=2)\n",
        "print('\\nModel accuracy: {:.0f}%'.format(test_acc*100))"
      ],
      "execution_count": 5,
      "outputs": [
        {
          "output_type": "stream",
          "text": [
            "313/313 - 1s - loss: 0.2728 - accuracy: 0.9201\n",
            "\n",
            "Model accuracy: 92%\n"
          ],
          "name": "stdout"
        }
      ]
    }
  ]
}