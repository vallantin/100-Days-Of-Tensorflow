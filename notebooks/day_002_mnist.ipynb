{
  "nbformat": 4,
  "nbformat_minor": 0,
  "metadata": {
    "colab": {
      "name": "Copie de day_002-mnist.ipynb",
      "provenance": []
    },
    "kernelspec": {
      "name": "python3",
      "display_name": "Python 3"
    }
  },
  "cells": [
    {
      "cell_type": "markdown",
      "metadata": {
        "id": "G964PMKNAHFg",
        "colab_type": "text"
      },
      "source": [
        "# Fashion MNIST"
      ]
    },
    {
      "cell_type": "code",
      "metadata": {
        "id": "4Sbdf4-RAKk6",
        "colab_type": "code",
        "colab": {}
      },
      "source": [
        "# import libraries\n",
        "import tensorflow as tf\n",
        "import numpy as np\n",
        "import matplotlib.pyplot as plt"
      ],
      "execution_count": null,
      "outputs": []
    },
    {
      "cell_type": "code",
      "metadata": {
        "id": "8cjDnuFkAgXU",
        "colab_type": "code",
        "colab": {
          "base_uri": "https://localhost:8080/",
          "height": 153
        },
        "outputId": "6450e824-40ba-4fc2-f70f-d0a0cd388977"
      },
      "source": [
        "# import the fashion MNIST dataset\n",
        "mnist = tf.keras.datasets.fashion_mnist\n",
        "\n",
        "# get  the train and test sets\n",
        "(train_imgs, train_labels), (test_imgs, test_labels) = mnist.load_data()"
      ],
      "execution_count": null,
      "outputs": [
        {
          "output_type": "stream",
          "text": [
            "Downloading data from https://storage.googleapis.com/tensorflow/tf-keras-datasets/train-labels-idx1-ubyte.gz\n",
            "32768/29515 [=================================] - 0s 0us/step\n",
            "Downloading data from https://storage.googleapis.com/tensorflow/tf-keras-datasets/train-images-idx3-ubyte.gz\n",
            "26427392/26421880 [==============================] - 0s 0us/step\n",
            "Downloading data from https://storage.googleapis.com/tensorflow/tf-keras-datasets/t10k-labels-idx1-ubyte.gz\n",
            "8192/5148 [===============================================] - 0s 0us/step\n",
            "Downloading data from https://storage.googleapis.com/tensorflow/tf-keras-datasets/t10k-images-idx3-ubyte.gz\n",
            "4423680/4422102 [==============================] - 0s 0us/step\n"
          ],
          "name": "stdout"
        }
      ]
    },
    {
      "cell_type": "markdown",
      "metadata": {
        "id": "Rjxml9SeBz_x",
        "colab_type": "text"
      },
      "source": [
        "The labels on the dataset are written from 0 to 9. Let's create \"readable\" labels for them."
      ]
    },
    {
      "cell_type": "code",
      "metadata": {
        "id": "eqnPEbLNC6Qv",
        "colab_type": "code",
        "colab": {
          "base_uri": "https://localhost:8080/",
          "height": 34
        },
        "outputId": "58a70953-ab07-4591-8f1b-780a1be27727"
      },
      "source": [
        "# Check the labels on the train set\n",
        "list(set(train_labels))"
      ],
      "execution_count": null,
      "outputs": [
        {
          "output_type": "execute_result",
          "data": {
            "text/plain": [
              "[0, 1, 2, 3, 4, 5, 6, 7, 8, 9]"
            ]
          },
          "metadata": {
            "tags": []
          },
          "execution_count": 15
        }
      ]
    },
    {
      "cell_type": "code",
      "metadata": {
        "id": "rY6Li2V-BE99",
        "colab_type": "code",
        "colab": {}
      },
      "source": [
        "# set the labels\n",
        "labels = ['Top', 'Pants', 'Pullover', 'Dress', 'Coat', 'Sandal', 'Shirt', 'Sneaker', 'Bag', 'Ankle boot']"
      ],
      "execution_count": null,
      "outputs": []
    },
    {
      "cell_type": "code",
      "metadata": {
        "id": "QoTq-nkVCKe2",
        "colab_type": "code",
        "colab": {
          "base_uri": "https://localhost:8080/",
          "height": 51
        },
        "outputId": "96ccb0e5-d923-444a-a846-2d35ee211f5f"
      },
      "source": [
        "# Check shapes\n",
        "print('There are {} images on this set.'.format(train_imgs.shape[0]))\n",
        "print('The images are in the {} x {} pxs format.'.format(train_imgs.shape[1], train_imgs.shape[2]))"
      ],
      "execution_count": null,
      "outputs": [
        {
          "output_type": "stream",
          "text": [
            "There are 60000 images on the set.\n",
            "The images are in the 28 x 28 pxs format.\n"
          ],
          "name": "stdout"
        }
      ]
    },
    {
      "cell_type": "code",
      "metadata": {
        "id": "dncAeS_gCori",
        "colab_type": "code",
        "colab": {
          "base_uri": "https://localhost:8080/",
          "height": 265
        },
        "outputId": "a17a665c-eed9-4873-b5f6-9a3dc0b848e9"
      },
      "source": [
        "# inspect one image\n",
        "plt.figure()\n",
        "plt.imshow(train_imgs[10])\n",
        "plt.colorbar()\n",
        "plt.grid(False)\n",
        "plt.show()"
      ],
      "execution_count": null,
      "outputs": [
        {
          "output_type": "display_data",
          "data": {
            "image/png": "[encoded data removed]",
            "text/plain": [
              "<Figure size 432x288 with 2 Axes>"
            ]
          },
          "metadata": {
            "tags": [],
            "needs_background": "light"
          }
        }
      ]
    },
    {
      "cell_type": "markdown",
      "metadata": {
        "id": "x3pYtIT5DFPB",
        "colab_type": "text"
      },
      "source": [
        "Every pixel on the image vary from 0 to 255 pixels. To speed training time, we need to preprocess the images and place every pixel into a 0 to 1 scale."
      ]
    },
    {
      "cell_type": "code",
      "metadata": {
        "id": "-IbgdiIEEa8b",
        "colab_type": "code",
        "colab": {}
      },
      "source": [
        "train_imgs = train_imgs / 255.0\n",
        "test_imgs  = test_imgs / 255.0"
      ],
      "execution_count": null,
      "outputs": []
    },
    {
      "cell_type": "code",
      "metadata": {
        "id": "BBAWqlf1Eqqy",
        "colab_type": "code",
        "colab": {
          "base_uri": "https://localhost:8080/",
          "height": 269
        },
        "outputId": "2aef4dfd-fc75-44e2-d041-2fb17f8e76f1"
      },
      "source": [
        "# reinspect the same image\n",
        "plt.figure()\n",
        "plt.imshow(train_imgs[10])\n",
        "plt.colorbar()\n",
        "plt.grid(False)\n",
        "plt.show()"
      ],
      "execution_count": null,
      "outputs": [
        {
          "output_type": "display_data",
          "data": {
            "image/png": "[encoded data removed]",
            "text/plain": [
              "<Figure size 432x288 with 2 Axes>"
            ]
          },
          "metadata": {
            "tags": [],
            "needs_background": "light"
          }
        }
      ]
    },
    {
      "cell_type": "markdown",
      "metadata": {
        "id": "XYK1TLdmFNzV",
        "colab_type": "text"
      },
      "source": [
        "## Build the model\n",
        "\n",
        "The first layer receives the images. Its input shape must correspond to the same shapes of the images.\n",
        "\n",
        "The Flatten layer transforms the image into a single dimension vector.\n",
        "\n",
        "The intermediary Dense layer is the hidden layer, which activation function is ReLu.\n",
        "\n",
        "The last Dense layer will output the probabilities of an image being of one of the 10 classes. Its activation function is Softmax."
      ]
    },
    {
      "cell_type": "code",
      "metadata": {
        "id": "o2BY9jHnFQBb",
        "colab_type": "code",
        "colab": {}
      },
      "source": [
        "model = tf.keras.Sequential([\n",
        "                             tf.keras.layers.Flatten(input_shape=(28,28)),\n",
        "                             tf.keras.layers.Dense(128, activation='relu'),\n",
        "                             tf.keras.layers.Dense(10, activation='softmax')\n",
        "])"
      ],
      "execution_count": null,
      "outputs": []
    },
    {
      "cell_type": "markdown",
      "metadata": {
        "id": "kkL3UlI-Shna",
        "colab_type": "text"
      },
      "source": [
        "Now, it's time to compile the model. This step will configure the model before training. The main parameters are:\n",
        "\n",
        "1 - The loss function: will measure the precision of the model during training.\n",
        "2 - Optimizer: defines the gradient descent method.\n",
        "3 - Metrics: used to monitor the accuracy of the model.\n"
      ]
    },
    {
      "cell_type": "code",
      "metadata": {
        "id": "AFOC5X4eSfXl",
        "colab_type": "code",
        "colab": {}
      },
      "source": [
        "model.compile(optimizer='adam',\n",
        "              loss='sparse_categorical_crossentropy',\n",
        "              metrics=['accuracy'])\n"
      ],
      "execution_count": null,
      "outputs": []
    },
    {
      "cell_type": "markdown",
      "metadata": {
        "id": "jx9GgwC0T9t6",
        "colab_type": "text"
      },
      "source": [
        "Now, it's time to train. During training, the model will receive the training set (train_imgs) and the labels and will try to learn from them."
      ]
    },
    {
      "cell_type": "code",
      "metadata": {
        "id": "0WhMcZePT-Dw",
        "colab_type": "code",
        "colab": {
          "base_uri": "https://localhost:8080/",
          "height": 374
        },
        "outputId": "1bede435-1206-4b9a-9925-513887d1a967"
      },
      "source": [
        "model.fit(train_imgs, \n",
        "          train_labels, \n",
        "          epochs=10)"
      ],
      "execution_count": null,
      "outputs": [
        {
          "output_type": "stream",
          "text": [
            "Epoch 1/10\n",
            "1875/1875 [==============================] - 3s 2ms/step - loss: 0.4985 - accuracy: 0.8243\n",
            "Epoch 2/10\n",
            "1875/1875 [==============================] - 3s 2ms/step - loss: 0.3751 - accuracy: 0.8662\n",
            "Epoch 3/10\n",
            "1875/1875 [==============================] - 3s 2ms/step - loss: 0.3369 - accuracy: 0.8777\n",
            "Epoch 4/10\n",
            "1875/1875 [==============================] - 3s 2ms/step - loss: 0.3134 - accuracy: 0.8845\n",
            "Epoch 5/10\n",
            "1875/1875 [==============================] - 3s 2ms/step - loss: 0.2970 - accuracy: 0.8902\n",
            "Epoch 6/10\n",
            "1875/1875 [==============================] - 3s 2ms/step - loss: 0.2804 - accuracy: 0.8953\n",
            "Epoch 7/10\n",
            "1875/1875 [==============================] - 3s 2ms/step - loss: 0.2670 - accuracy: 0.9005\n",
            "Epoch 8/10\n",
            "1875/1875 [==============================] - 3s 2ms/step - loss: 0.2552 - accuracy: 0.9058\n",
            "Epoch 9/10\n",
            "1875/1875 [==============================] - 3s 2ms/step - loss: 0.2467 - accuracy: 0.9088\n",
            "Epoch 10/10\n",
            "1875/1875 [==============================] - 3s 2ms/step - loss: 0.2359 - accuracy: 0.9122\n"
          ],
          "name": "stdout"
        },
        {
          "output_type": "execute_result",
          "data": {
            "text/plain": [
              "<tensorflow.python.keras.callbacks.History at 0x7fe5ce825c18>"
            ]
          },
          "metadata": {
            "tags": []
          },
          "execution_count": 42
        }
      ]
    },
    {
      "cell_type": "markdown",
      "metadata": {
        "id": "ZePh0GPZVuUv",
        "colab_type": "text"
      },
      "source": [
        "To evaluate how the model is performing, we test it using a set of data it never saw before. We use the test_imgs set for that. The result a percentage value. In this case, we achieved an accuracy of 88%.\n",
        "\n",
        "You will see that the accuracy during training phase is higher than when we measure it on a separate set. This is due to overfitting: the model learns very well over the images it knows already, but it's not very good at predicting new information on the same way.\n",
        "\n",
        "A good exercise for the next days is finding ways to decrease overfitting."
      ]
    },
    {
      "cell_type": "code",
      "metadata": {
        "id": "UnznNRdWVvLR",
        "colab_type": "code",
        "colab": {
          "base_uri": "https://localhost:8080/",
          "height": 68
        },
        "outputId": "8297d557-d03f-4580-c311-00471e53b700"
      },
      "source": [
        "test_loss, test_acc = model.evaluate(test_imgs, test_labels, verbose=2)\n",
        "print('\\nModel accuracy: {:.0f}%'.format(test_acc*100))"
      ],
      "execution_count": null,
      "outputs": [
        {
          "output_type": "stream",
          "text": [
            "313/313 - 0s - loss: 0.3399 - accuracy: 0.8804\n",
            "\n",
            "Model accuracy: 88%\n"
          ],
          "name": "stdout"
        }
      ]
    },
    {
      "cell_type": "markdown",
      "metadata": {
        "id": "e7bLR6Z8XYWa",
        "colab_type": "text"
      },
      "source": [
        "## Making predictions\n",
        "\n",
        "To predict new images, we call the method \"predict\". It will predict all the images present on a set at once. The result is an array of arrays.\n",
        "\n",
        "Each one of these arrays contains 10 floats. Each number corresponds to the probability of an image being of a certain label."
      ]
    },
    {
      "cell_type": "code",
      "metadata": {
        "id": "vK3_hgPvXejg",
        "colab_type": "code",
        "colab": {}
      },
      "source": [
        "predictions = model.predict(test_imgs)"
      ],
      "execution_count": null,
      "outputs": []
    },
    {
      "cell_type": "markdown",
      "metadata": {
        "id": "ps9XNMY1YEE5",
        "colab_type": "text"
      },
      "source": [
        "If you analyse the first prediction, you will realize that the model thinks that this image is an ankle boot (ankle boots correspond to the label number 9)."
      ]
    },
    {
      "cell_type": "code",
      "metadata": {
        "id": "3LDzi_dbXqma",
        "colab_type": "code",
        "colab": {
          "base_uri": "https://localhost:8080/",
          "height": 68
        },
        "outputId": "1f02d5df-dfe0-474f-9c01-294676cbaee8"
      },
      "source": [
        "predictions[0]"
      ],
      "execution_count": null,
      "outputs": [
        {
          "output_type": "execute_result",
          "data": {
            "text/plain": [
              "array([2.1791378e-08, 1.7478848e-10, 2.3224722e-09, 8.2666425e-09,\n",
              "       8.7318801e-09, 1.2310638e-04, 2.8848615e-07, 2.0155476e-02,\n",
              "       7.4396479e-07, 9.7972041e-01], dtype=float32)"
            ]
          },
          "metadata": {
            "tags": []
          },
          "execution_count": 56
        }
      ]
    },
    {
      "cell_type": "code",
      "metadata": {
        "id": "cpVRW8sPYOGI",
        "colab_type": "code",
        "colab": {
          "base_uri": "https://localhost:8080/",
          "height": 51
        },
        "outputId": "1bf00e8a-7761-4194-aaf0-c0f7b023585d"
      },
      "source": [
        "print('The models thinks that the index {} has the highest probability.'.format(np.argmax(predictions[0])))\n",
        "print('The index {} corresponds to the label \\'{}\\'.'.format(np.argmax(predictions[0]), labels[np.argmax(predictions[0])]))"
      ],
      "execution_count": null,
      "outputs": [
        {
          "output_type": "stream",
          "text": [
            "The models thinks that the index 9 has the highest probability.\n",
            "The index 9 corresponds to the label 'Ankle boot'.\n"
          ],
          "name": "stdout"
        }
      ]
    },
    {
      "cell_type": "markdown",
      "metadata": {
        "id": "ba3mK0RnZbHP",
        "colab_type": "text"
      },
      "source": [
        "Let's predict all the images at once and get the first 5 predictions."
      ]
    },
    {
      "cell_type": "code",
      "metadata": {
        "id": "Oi3hHC-pZYQ4",
        "colab_type": "code",
        "colab": {
          "base_uri": "https://localhost:8080/",
          "height": 34
        },
        "outputId": "c0552dee-a277-4908-9baf-be92f0f4a450"
      },
      "source": [
        "predictions_labels = [labels[np.argmax(p)] for p in predictions]\n",
        "predictions_labels[:5]"
      ],
      "execution_count": null,
      "outputs": [
        {
          "output_type": "execute_result",
          "data": {
            "text/plain": [
              "['Ankle boot', 'Pullover', 'Pants', 'Pants', 'Shirt']"
            ]
          },
          "metadata": {
            "tags": []
          },
          "execution_count": 66
        }
      ]
    },
    {
      "cell_type": "markdown",
      "metadata": {
        "id": "hryvJDYsakQw",
        "colab_type": "text"
      },
      "source": [
        "Let's plot this image to see if the prediction is"
      ]
    },
    {
      "cell_type": "code",
      "metadata": {
        "id": "RJItWCt1YXfV",
        "colab_type": "code",
        "colab": {
          "base_uri": "https://localhost:8080/",
          "height": 269
        },
        "outputId": "223c8c89-2892-4b93-cbb7-16e6cf999626"
      },
      "source": [
        "# reinspect the same image\n",
        "plt.figure()\n",
        "plt.imshow(test_imgs[0])\n",
        "plt.colorbar()\n",
        "plt.grid(False)\n",
        "plt.show()"
      ],
      "execution_count": null,
      "outputs": [
        {
          "output_type": "display_data",
          "data": {
            "image/png": "[encoded data removed]",
            "text/plain": [
              "<Figure size 432x288 with 2 Axes>"
            ]
          },
          "metadata": {
            "tags": [],
            "needs_background": "light"
          }
        }
      ]
    }
  ]
}